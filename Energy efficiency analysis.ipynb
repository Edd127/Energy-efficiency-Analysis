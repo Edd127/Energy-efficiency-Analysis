{
 "cells": [
  {
   "cell_type": "code",
   "execution_count": 629,
   "metadata": {},
   "outputs": [],
   "source": [
    "import warnings\n",
    "warnings.filterwarnings('ignore')\n",
    "import numpy as np\n",
    "import pandas as pd\n",
    "import matplotlib.pyplot as plt\n",
    "import seaborn as sns\n",
    "from sklearn.linear_model import LinearRegression\n",
    "from sklearn.preprocessing import MinMaxScaler\n",
    "from sklearn.model_selection import train_test_split\n",
    "from sklearn.cluster import KMeans\n",
    "from sklearn.metrics import mean_squared_error\n",
    "from sklearn.metrics import r2_score\n",
    "from sklearn import metrics\n",
    "from sklearn import linear_model\n",
    "from sklearn.neighbors import KNeighborsClassifier\n"
   ]
  },
  {
   "cell_type": "markdown",
   "metadata": {},
   "source": [
    "Importam dataframe-ul"
   ]
  },
  {
   "cell_type": "code",
   "execution_count": 630,
   "metadata": {},
   "outputs": [
    {
     "name": "stdout",
     "output_type": "stream",
     "text": [
      "<class 'pandas.core.frame.DataFrame'>\n",
      "RangeIndex: 768 entries, 0 to 767\n",
      "Data columns (total 10 columns):\n",
      " #   Column  Non-Null Count  Dtype  \n",
      "---  ------  --------------  -----  \n",
      " 0   X1      768 non-null    float64\n",
      " 1   X2      768 non-null    float64\n",
      " 2   X3      768 non-null    float64\n",
      " 3   X4      768 non-null    float64\n",
      " 4   X5      768 non-null    float64\n",
      " 5   X6      768 non-null    int64  \n",
      " 6   X7      768 non-null    float64\n",
      " 7   X8      768 non-null    int64  \n",
      " 8   Y1      768 non-null    float64\n",
      " 9   Y2      768 non-null    float64\n",
      "dtypes: float64(8), int64(2)\n",
      "memory usage: 60.1 KB\n"
     ]
    }
   ],
   "source": [
    "data=pd.read_csv(\"https://raw.githubusercontent.com/Edd127/Datasets/main/ENB2012_data.csv\")\n",
    "data.info()"
   ]
  },
  {
   "cell_type": "markdown",
   "metadata": {},
   "source": [
    "Acest studiu a analizat eficienta energetica de încalzire si eficienta energetica de racire ale cladirilor  in functie de parametrii cladirii.\n",
    "\n",
    "Setul de date contine opt atribute notate cu X1 ... X8 si doua rezultate notate cu y1 si y2.\n",
    "\n",
    "Acesta cuprinde 768 de esantioane si 8 atribute, cu scopul de a prezice doua raspunsuri reale, adica y1 si y2\n",
    "\n"
   ]
  },
  {
   "cell_type": "markdown",
   "metadata": {},
   "source": [
    "Vom verifica daca exista valori nule"
   ]
  },
  {
   "cell_type": "code",
   "execution_count": 631,
   "metadata": {},
   "outputs": [
    {
     "data": {
      "text/plain": [
       "X1    False\n",
       "X2    False\n",
       "X3    False\n",
       "X4    False\n",
       "X5    False\n",
       "X6    False\n",
       "X7    False\n",
       "X8    False\n",
       "Y1    False\n",
       "Y2    False\n",
       "dtype: bool"
      ]
     },
     "execution_count": 631,
     "metadata": {},
     "output_type": "execute_result"
    }
   ],
   "source": [
    "data.isnull().any()"
   ]
  },
  {
   "cell_type": "markdown",
   "metadata": {},
   "source": [
    "Redenumim atributele pentru o citire mult mai buna"
   ]
  },
  {
   "cell_type": "code",
   "execution_count": 632,
   "metadata": {},
   "outputs": [],
   "source": [
    "data.columns = ['Relative_Compactness', 'Surface_Area', 'Wall_Area', 'Roof_Area', 'Overall_Height',\n",
    "                'Orientation', 'Glazing_Area', 'Glazing_Area_Distribution', 'Heating_Load', 'Cooling_Load']"
   ]
  },
  {
   "cell_type": "markdown",
   "metadata": {},
   "source": [
    "Heating Load este cantitatea de energie termica care ar trebui adaugata intr-un spatiu pentru a mentine temperatura la un nivel acceptabil\n",
    "\n",
    "Cooling Load este cantitatea de energie termica care ar trebui eliminata dintr-un spatiu pentru a mentine temperatura la un nivel acceptabil"
   ]
  },
  {
   "cell_type": "markdown",
   "metadata": {},
   "source": [
    "# 1.Analiza Exploatorie"
   ]
  },
  {
   "cell_type": "markdown",
   "metadata": {},
   "source": [
    "Folosind functia describe, vom avea o perspectiva generala asupra setului de date"
   ]
  },
  {
   "cell_type": "code",
   "execution_count": 633,
   "metadata": {
    "scrolled": true
   },
   "outputs": [
    {
     "data": {
      "text/html": [
       "<div>\n",
       "<style scoped>\n",
       "    .dataframe tbody tr th:only-of-type {\n",
       "        vertical-align: middle;\n",
       "    }\n",
       "\n",
       "    .dataframe tbody tr th {\n",
       "        vertical-align: top;\n",
       "    }\n",
       "\n",
       "    .dataframe thead th {\n",
       "        text-align: right;\n",
       "    }\n",
       "</style>\n",
       "<table border=\"1\" class=\"dataframe\">\n",
       "  <thead>\n",
       "    <tr style=\"text-align: right;\">\n",
       "      <th></th>\n",
       "      <th>Relative_Compactness</th>\n",
       "      <th>Surface_Area</th>\n",
       "      <th>Wall_Area</th>\n",
       "      <th>Roof_Area</th>\n",
       "      <th>Overall_Height</th>\n",
       "      <th>Orientation</th>\n",
       "      <th>Glazing_Area</th>\n",
       "      <th>Glazing_Area_Distribution</th>\n",
       "      <th>Heating_Load</th>\n",
       "      <th>Cooling_Load</th>\n",
       "    </tr>\n",
       "  </thead>\n",
       "  <tbody>\n",
       "    <tr>\n",
       "      <th>count</th>\n",
       "      <td>768.000000</td>\n",
       "      <td>768.000000</td>\n",
       "      <td>768.000000</td>\n",
       "      <td>768.000000</td>\n",
       "      <td>768.00000</td>\n",
       "      <td>768.000000</td>\n",
       "      <td>768.000000</td>\n",
       "      <td>768.00000</td>\n",
       "      <td>768.000000</td>\n",
       "      <td>768.000000</td>\n",
       "    </tr>\n",
       "    <tr>\n",
       "      <th>mean</th>\n",
       "      <td>0.764167</td>\n",
       "      <td>671.708333</td>\n",
       "      <td>318.500000</td>\n",
       "      <td>176.604167</td>\n",
       "      <td>5.25000</td>\n",
       "      <td>3.500000</td>\n",
       "      <td>0.234375</td>\n",
       "      <td>2.81250</td>\n",
       "      <td>22.307201</td>\n",
       "      <td>24.587760</td>\n",
       "    </tr>\n",
       "    <tr>\n",
       "      <th>std</th>\n",
       "      <td>0.105777</td>\n",
       "      <td>88.086116</td>\n",
       "      <td>43.626481</td>\n",
       "      <td>45.165950</td>\n",
       "      <td>1.75114</td>\n",
       "      <td>1.118763</td>\n",
       "      <td>0.133221</td>\n",
       "      <td>1.55096</td>\n",
       "      <td>10.090196</td>\n",
       "      <td>9.513306</td>\n",
       "    </tr>\n",
       "    <tr>\n",
       "      <th>min</th>\n",
       "      <td>0.620000</td>\n",
       "      <td>514.500000</td>\n",
       "      <td>245.000000</td>\n",
       "      <td>110.250000</td>\n",
       "      <td>3.50000</td>\n",
       "      <td>2.000000</td>\n",
       "      <td>0.000000</td>\n",
       "      <td>0.00000</td>\n",
       "      <td>6.010000</td>\n",
       "      <td>10.900000</td>\n",
       "    </tr>\n",
       "    <tr>\n",
       "      <th>25%</th>\n",
       "      <td>0.682500</td>\n",
       "      <td>606.375000</td>\n",
       "      <td>294.000000</td>\n",
       "      <td>140.875000</td>\n",
       "      <td>3.50000</td>\n",
       "      <td>2.750000</td>\n",
       "      <td>0.100000</td>\n",
       "      <td>1.75000</td>\n",
       "      <td>12.992500</td>\n",
       "      <td>15.620000</td>\n",
       "    </tr>\n",
       "    <tr>\n",
       "      <th>50%</th>\n",
       "      <td>0.750000</td>\n",
       "      <td>673.750000</td>\n",
       "      <td>318.500000</td>\n",
       "      <td>183.750000</td>\n",
       "      <td>5.25000</td>\n",
       "      <td>3.500000</td>\n",
       "      <td>0.250000</td>\n",
       "      <td>3.00000</td>\n",
       "      <td>18.950000</td>\n",
       "      <td>22.080000</td>\n",
       "    </tr>\n",
       "    <tr>\n",
       "      <th>75%</th>\n",
       "      <td>0.830000</td>\n",
       "      <td>741.125000</td>\n",
       "      <td>343.000000</td>\n",
       "      <td>220.500000</td>\n",
       "      <td>7.00000</td>\n",
       "      <td>4.250000</td>\n",
       "      <td>0.400000</td>\n",
       "      <td>4.00000</td>\n",
       "      <td>31.667500</td>\n",
       "      <td>33.132500</td>\n",
       "    </tr>\n",
       "    <tr>\n",
       "      <th>max</th>\n",
       "      <td>0.980000</td>\n",
       "      <td>808.500000</td>\n",
       "      <td>416.500000</td>\n",
       "      <td>220.500000</td>\n",
       "      <td>7.00000</td>\n",
       "      <td>5.000000</td>\n",
       "      <td>0.400000</td>\n",
       "      <td>5.00000</td>\n",
       "      <td>43.100000</td>\n",
       "      <td>48.030000</td>\n",
       "    </tr>\n",
       "  </tbody>\n",
       "</table>\n",
       "</div>"
      ],
      "text/plain": [
       "       Relative_Compactness  Surface_Area   Wall_Area   Roof_Area  \\\n",
       "count            768.000000    768.000000  768.000000  768.000000   \n",
       "mean               0.764167    671.708333  318.500000  176.604167   \n",
       "std                0.105777     88.086116   43.626481   45.165950   \n",
       "min                0.620000    514.500000  245.000000  110.250000   \n",
       "25%                0.682500    606.375000  294.000000  140.875000   \n",
       "50%                0.750000    673.750000  318.500000  183.750000   \n",
       "75%                0.830000    741.125000  343.000000  220.500000   \n",
       "max                0.980000    808.500000  416.500000  220.500000   \n",
       "\n",
       "       Overall_Height  Orientation  Glazing_Area  Glazing_Area_Distribution  \\\n",
       "count       768.00000   768.000000    768.000000                  768.00000   \n",
       "mean          5.25000     3.500000      0.234375                    2.81250   \n",
       "std           1.75114     1.118763      0.133221                    1.55096   \n",
       "min           3.50000     2.000000      0.000000                    0.00000   \n",
       "25%           3.50000     2.750000      0.100000                    1.75000   \n",
       "50%           5.25000     3.500000      0.250000                    3.00000   \n",
       "75%           7.00000     4.250000      0.400000                    4.00000   \n",
       "max           7.00000     5.000000      0.400000                    5.00000   \n",
       "\n",
       "       Heating_Load  Cooling_Load  \n",
       "count    768.000000    768.000000  \n",
       "mean      22.307201     24.587760  \n",
       "std       10.090196      9.513306  \n",
       "min        6.010000     10.900000  \n",
       "25%       12.992500     15.620000  \n",
       "50%       18.950000     22.080000  \n",
       "75%       31.667500     33.132500  \n",
       "max       43.100000     48.030000  "
      ]
     },
     "execution_count": 633,
     "metadata": {},
     "output_type": "execute_result"
    }
   ],
   "source": [
    "data.describe()"
   ]
  },
  {
   "cell_type": "markdown",
   "metadata": {},
   "source": [
    "Dorim sa vedem cate date sunt unice"
   ]
  },
  {
   "cell_type": "code",
   "execution_count": 634,
   "metadata": {},
   "outputs": [
    {
     "data": {
      "text/plain": [
       "Relative_Compactness          12\n",
       "Surface_Area                  12\n",
       "Wall_Area                      7\n",
       "Roof_Area                      4\n",
       "Overall_Height                 2\n",
       "Orientation                    4\n",
       "Glazing_Area                   4\n",
       "Glazing_Area_Distribution      6\n",
       "Heating_Load                 586\n",
       "Cooling_Load                 636\n",
       "dtype: int64"
      ]
     },
     "execution_count": 634,
     "metadata": {},
     "output_type": "execute_result"
    }
   ],
   "source": [
    "data.nunique()"
   ]
  },
  {
   "cell_type": "markdown",
   "metadata": {},
   "source": [
    "Vom analiza in continuare corelatiile dintre atribute folosindu-ne de o reprezentare heatmap"
   ]
  },
  {
   "cell_type": "code",
   "execution_count": 635,
   "metadata": {},
   "outputs": [
    {
     "data": {
      "text/plain": [
       "<AxesSubplot:>"
      ]
     },
     "execution_count": 635,
     "metadata": {},
     "output_type": "execute_result"
    },
    {
     "data": {
      "image/png": "[encoded data removed]",
      "text/plain": [
       "<Figure size 1080x720 with 2 Axes>"
      ]
     },
     "metadata": {},
     "output_type": "display_data"
    }
   ],
   "source": [
    "sns.set(rc={'figure.figsize':(15,10)}) \n",
    "sns.heatmap(data.corr(), annot=True)"
   ]
  },
  {
   "cell_type": "markdown",
   "metadata": {},
   "source": [
    "Relative Compactness are o corelatie de 0.62 cu Heating_Load, respectiv 0.63 cu Cooling Load si o corelatie de 0.83 cu Overall Height. \n",
    "Roof Area are o corelatie de 0.88 cu Surface Area.\n",
    "Overall Height are o corelatie de 0.89 cu Heating_Load, respectiv 0.9 cu Cooling Load.\n",
    "\n",
    "Toate aceste corelatii sunt corelatii pozitive. \n",
    "\n",
    "\n",
    "Corelatiile negative sunt reprezentate de :\n",
    "Surface Area si Relative Compactness (-0.99), Roof Area si Relative Compactness (-0.99), Overall Height cu Surface Area(-0.86)si (-0.97) cu Roof Area."
   ]
  },
  {
   "cell_type": "code",
   "execution_count": 636,
   "metadata": {},
   "outputs": [
    {
     "data": {
      "text/html": [
       "<div>\n",
       "<style scoped>\n",
       "    .dataframe tbody tr th:only-of-type {\n",
       "        vertical-align: middle;\n",
       "    }\n",
       "\n",
       "    .dataframe tbody tr th {\n",
       "        vertical-align: top;\n",
       "    }\n",
       "\n",
       "    .dataframe thead th {\n",
       "        text-align: right;\n",
       "    }\n",
       "</style>\n",
       "<table border=\"1\" class=\"dataframe\">\n",
       "  <thead>\n",
       "    <tr style=\"text-align: right;\">\n",
       "      <th></th>\n",
       "      <th>Relative_Compactness</th>\n",
       "      <th>Overall_Height</th>\n",
       "      <th>Heating_Load</th>\n",
       "      <th>Cooling_Load</th>\n",
       "    </tr>\n",
       "  </thead>\n",
       "  <tbody>\n",
       "    <tr>\n",
       "      <th>0</th>\n",
       "      <td>0.98</td>\n",
       "      <td>7.0</td>\n",
       "      <td>15.55</td>\n",
       "      <td>21.33</td>\n",
       "    </tr>\n",
       "    <tr>\n",
       "      <th>1</th>\n",
       "      <td>0.98</td>\n",
       "      <td>7.0</td>\n",
       "      <td>15.55</td>\n",
       "      <td>21.33</td>\n",
       "    </tr>\n",
       "    <tr>\n",
       "      <th>2</th>\n",
       "      <td>0.98</td>\n",
       "      <td>7.0</td>\n",
       "      <td>15.55</td>\n",
       "      <td>21.33</td>\n",
       "    </tr>\n",
       "    <tr>\n",
       "      <th>3</th>\n",
       "      <td>0.98</td>\n",
       "      <td>7.0</td>\n",
       "      <td>15.55</td>\n",
       "      <td>21.33</td>\n",
       "    </tr>\n",
       "    <tr>\n",
       "      <th>4</th>\n",
       "      <td>0.90</td>\n",
       "      <td>7.0</td>\n",
       "      <td>20.84</td>\n",
       "      <td>28.28</td>\n",
       "    </tr>\n",
       "    <tr>\n",
       "      <th>...</th>\n",
       "      <td>...</td>\n",
       "      <td>...</td>\n",
       "      <td>...</td>\n",
       "      <td>...</td>\n",
       "    </tr>\n",
       "    <tr>\n",
       "      <th>763</th>\n",
       "      <td>0.64</td>\n",
       "      <td>3.5</td>\n",
       "      <td>17.88</td>\n",
       "      <td>21.40</td>\n",
       "    </tr>\n",
       "    <tr>\n",
       "      <th>764</th>\n",
       "      <td>0.62</td>\n",
       "      <td>3.5</td>\n",
       "      <td>16.54</td>\n",
       "      <td>16.88</td>\n",
       "    </tr>\n",
       "    <tr>\n",
       "      <th>765</th>\n",
       "      <td>0.62</td>\n",
       "      <td>3.5</td>\n",
       "      <td>16.44</td>\n",
       "      <td>17.11</td>\n",
       "    </tr>\n",
       "    <tr>\n",
       "      <th>766</th>\n",
       "      <td>0.62</td>\n",
       "      <td>3.5</td>\n",
       "      <td>16.48</td>\n",
       "      <td>16.61</td>\n",
       "    </tr>\n",
       "    <tr>\n",
       "      <th>767</th>\n",
       "      <td>0.62</td>\n",
       "      <td>3.5</td>\n",
       "      <td>16.64</td>\n",
       "      <td>16.03</td>\n",
       "    </tr>\n",
       "  </tbody>\n",
       "</table>\n",
       "<p>768 rows × 4 columns</p>\n",
       "</div>"
      ],
      "text/plain": [
       "     Relative_Compactness  Overall_Height  Heating_Load  Cooling_Load\n",
       "0                    0.98             7.0         15.55         21.33\n",
       "1                    0.98             7.0         15.55         21.33\n",
       "2                    0.98             7.0         15.55         21.33\n",
       "3                    0.98             7.0         15.55         21.33\n",
       "4                    0.90             7.0         20.84         28.28\n",
       "..                    ...             ...           ...           ...\n",
       "763                  0.64             3.5         17.88         21.40\n",
       "764                  0.62             3.5         16.54         16.88\n",
       "765                  0.62             3.5         16.44         17.11\n",
       "766                  0.62             3.5         16.48         16.61\n",
       "767                  0.62             3.5         16.64         16.03\n",
       "\n",
       "[768 rows x 4 columns]"
      ]
     },
     "execution_count": 636,
     "metadata": {},
     "output_type": "execute_result"
    }
   ],
   "source": [
    "coloane = [0,4,8,9]\n",
    "nou = data[data.columns[coloane]]\n",
    "\n",
    "nou"
   ]
  },
  {
   "cell_type": "code",
   "execution_count": 637,
   "metadata": {},
   "outputs": [
    {
     "data": {
      "text/plain": [
       "<seaborn.axisgrid.PairGrid at 0x16ddb53bcd0>"
      ]
     },
     "execution_count": 637,
     "metadata": {},
     "output_type": "execute_result"
    },
    {
     "data": {
      "image/png": "[encoded data removed]",
      "text/plain": [
       "<Figure size 672.175x540 with 12 Axes>"
      ]
     },
     "metadata": {},
     "output_type": "display_data"
    }
   ],
   "source": [
    "sns.pairplot(nou, hue=\"Relative_Compactness\")"
   ]
  },
  {
   "cell_type": "code",
   "execution_count": 638,
   "metadata": {},
   "outputs": [
    {
     "data": {
      "image/png": "[encoded data removed]",
      "text/plain": [
       "<Figure size 1080x648 with 10 Axes>"
      ]
     },
     "metadata": {},
     "output_type": "display_data"
    }
   ],
   "source": [
    "fig = plt.figure(figsize = (15,9))\n",
    "for a,b in enumerate(data.columns):\n",
    "    ax = fig.add_subplot(4,3,a+1)\n",
    "    sns.distplot(data[b])\n",
    "plt.tight_layout()"
   ]
  },
  {
   "cell_type": "markdown",
   "metadata": {},
   "source": [
    "Dorim sa vedem cum se clasifica cladirile in functie de cat de eficient este folosita energia. Pentru acest lucru vom face o clasificare a acestora in 3 clase: \n",
    "-Clasa 0 -> acestea sunt eficiente\n",
    "-Clasa 1 -> acestea folosesc energia intr-un mod neutru\n",
    "-Clasa 2 -> acestea nu sunt eficiente\n",
    "\n",
    "Pentru acest lucru vom imparti setul de date in 2 si vom verifica daca avem valori nule"
   ]
  },
  {
   "cell_type": "code",
   "execution_count": 639,
   "metadata": {},
   "outputs": [
    {
     "name": "stdout",
     "output_type": "stream",
     "text": [
      "Relative_Compactness         0\n",
      "Surface_Area                 0\n",
      "Wall_Area                    0\n",
      "Roof_Area                    0\n",
      "Overall_Height               0\n",
      "Orientation                  0\n",
      "Glazing_Area                 0\n",
      "Glazing_Area_Distribution    0\n",
      "dtype: int64\n"
     ]
    }
   ],
   "source": [
    "X = data[['Relative_Compactness', 'Surface_Area', 'Wall_Area', 'Roof_Area', 'Overall_Height',\n",
    "                'Orientation', 'Glazing_Area', 'Glazing_Area_Distribution']]\n",
    "Y = data[[ 'Heating_Load', 'Cooling_Load']]\n",
    "Y1=data[['Heating_Load']]\n",
    "Y2=data[['Cooling_Load']]\n",
    "print(X.isnull().sum())"
   ]
  },
  {
   "cell_type": "markdown",
   "metadata": {},
   "source": [
    "Calculam suma dintre heating load si cooling load pentru a vedea consumul de energie. Daca overall_load(consumul total de energie) este mai mic decat 42 - cladirile vor intra in class 0, daca consumul total de energie este > 70, acestea vor intra in class 2, iar restul vor intra in class 1"
   ]
  },
  {
   "cell_type": "code",
   "execution_count": 640,
   "metadata": {},
   "outputs": [],
   "source": [
    "Z = data[['Heating_Load','Cooling_Load']]\n",
    "\n",
    "\n",
    "Z['Overall_load'] = Z['Heating_Load'] + Z['Cooling_Load']\n",
    "Z['class'] = 1\n",
    "\n",
    "Z.loc[Z.Overall_load < 42,['class']] = 0\n",
    "Z.loc[Z.Overall_load > 70 , ['class']] = 2\n",
    "\n",
    "\n",
    "yclass=Z['class']\n",
    "\n",
    "X_train_class, X_test_class, y_train_class, y_test_class = train_test_split(X, yclass,  )\n"
   ]
  },
  {
   "cell_type": "markdown",
   "metadata": {},
   "source": [
    "Vom scala datele pentru o prezicere mult mai buna"
   ]
  },
  {
   "cell_type": "code",
   "execution_count": 641,
   "metadata": {},
   "outputs": [
    {
     "name": "stdout",
     "output_type": "stream",
     "text": [
      "     Heating_Load  Cooling_Load  Overall_load  class\n",
      "0           15.55         21.33         36.88      0\n",
      "1           15.55         21.33         36.88      0\n",
      "2           15.55         21.33         36.88      0\n",
      "3           15.55         21.33         36.88      0\n",
      "4           20.84         28.28         49.12      1\n",
      "..            ...           ...           ...    ...\n",
      "763         17.88         21.40         39.28      0\n",
      "764         16.54         16.88         33.42      0\n",
      "765         16.44         17.11         33.55      0\n",
      "766         16.48         16.61         33.09      0\n",
      "767         16.64         16.03         32.67      0\n",
      "\n",
      "[768 rows x 4 columns]\n"
     ]
    }
   ],
   "source": [
    "from sklearn.preprocessing import MinMaxScaler\n",
    "MinMax = MinMaxScaler(feature_range= (0,1))\n",
    "X_train_class = MinMax.fit_transform(X_train_class)\n",
    "X_test_class = MinMax.transform(X_test_class)\n",
    "\n",
    "print(Z)"
   ]
  },
  {
   "cell_type": "markdown",
   "metadata": {},
   "source": [
    "Grupam elementele dupa clasa si numaram cate sunt in fiecare clasa"
   ]
  },
  {
   "cell_type": "code",
   "execution_count": 642,
   "metadata": {},
   "outputs": [
    {
     "data": {
      "text/html": [
       "<div>\n",
       "<style scoped>\n",
       "    .dataframe tbody tr th:only-of-type {\n",
       "        vertical-align: middle;\n",
       "    }\n",
       "\n",
       "    .dataframe tbody tr th {\n",
       "        vertical-align: top;\n",
       "    }\n",
       "\n",
       "    .dataframe thead th {\n",
       "        text-align: right;\n",
       "    }\n",
       "</style>\n",
       "<table border=\"1\" class=\"dataframe\">\n",
       "  <thead>\n",
       "    <tr style=\"text-align: right;\">\n",
       "      <th></th>\n",
       "      <th>clasa_total</th>\n",
       "    </tr>\n",
       "    <tr>\n",
       "      <th>class</th>\n",
       "      <th></th>\n",
       "    </tr>\n",
       "  </thead>\n",
       "  <tbody>\n",
       "    <tr>\n",
       "      <th>0</th>\n",
       "      <td>390</td>\n",
       "    </tr>\n",
       "    <tr>\n",
       "      <th>1</th>\n",
       "      <td>263</td>\n",
       "    </tr>\n",
       "    <tr>\n",
       "      <th>2</th>\n",
       "      <td>115</td>\n",
       "    </tr>\n",
       "  </tbody>\n",
       "</table>\n",
       "</div>"
      ],
      "text/plain": [
       "       clasa_total\n",
       "class             \n",
       "0              390\n",
       "1              263\n",
       "2              115"
      ]
     },
     "execution_count": 642,
     "metadata": {},
     "output_type": "execute_result"
    }
   ],
   "source": [
    "agregari = Z.groupby('class').agg(\n",
    "    \n",
    "    clasa_total=('class','count'),\n",
    ")\n",
    "\n",
    "agregari"
   ]
  },
  {
   "cell_type": "code",
   "execution_count": 643,
   "metadata": {},
   "outputs": [
    {
     "data": {
      "text/plain": [
       "<AxesSubplot:xlabel='class'>"
      ]
     },
     "execution_count": 643,
     "metadata": {},
     "output_type": "execute_result"
    },
    {
     "data": {
      "image/png": "[encoded data removed]",
      "text/plain": [
       "<Figure size 1080x720 with 1 Axes>"
      ]
     },
     "metadata": {},
     "output_type": "display_data"
    }
   ],
   "source": [
    "agregari.plot.bar() "
   ]
  },
  {
   "cell_type": "markdown",
   "metadata": {},
   "source": [
    "Din tabel, cat si din grafic se poate observa faptul ca 390 de cladiri sunt eficiente din punct de vedere al consumului energetic, 263 sunt neutre din punct de vedere energetic, iar restul de 115 nu sunt eficiente"
   ]
  },
  {
   "cell_type": "markdown",
   "metadata": {},
   "source": [
    "# 2.Regresie Liniara"
   ]
  },
  {
   "cell_type": "markdown",
   "metadata": {},
   "source": [
    "Regresia este o metodă de modelare a unei valori țintă bazată pe predictori independenți\n"
   ]
  },
  {
   "cell_type": "markdown",
   "metadata": {},
   "source": [
    "# 2.1 Regresie Liniara Simpla"
   ]
  },
  {
   "cell_type": "markdown",
   "metadata": {},
   "source": [
    "Formula => y = a + bx, unde a = constanta, b = coef. de determinare(r_patrat) "
   ]
  },
  {
   "cell_type": "markdown",
   "metadata": {},
   "source": [
    "În cazul nostru, dorim să vedem corelația dintre Heating Load și Cooling Load"
   ]
  },
  {
   "cell_type": "code",
   "execution_count": 644,
   "metadata": {},
   "outputs": [
    {
     "name": "stdout",
     "output_type": "stream",
     "text": [
      "[[15.55]\n",
      " [15.55]\n",
      " [15.55]\n",
      " [15.55]\n",
      " [20.84]\n",
      " [21.46]\n",
      " [20.71]\n",
      " [19.68]\n",
      " [19.5 ]\n",
      " [19.95]\n",
      " [19.34]\n",
      " [18.31]\n",
      " [17.05]\n",
      " [17.41]\n",
      " [16.95]\n",
      " [15.98]\n",
      " [28.52]\n",
      " [29.9 ]\n",
      " [29.63]\n",
      " [28.75]\n",
      " [24.77]\n",
      " [23.93]\n",
      " [24.77]\n",
      " [23.93]\n",
      " [ 6.07]\n",
      " [ 6.05]\n",
      " [ 6.01]\n",
      " [ 6.04]\n",
      " [ 6.37]\n",
      " [ 6.4 ]\n",
      " [ 6.37]\n",
      " [ 6.4 ]\n",
      " [ 6.85]\n",
      " [ 6.79]\n",
      " [ 6.77]\n",
      " [ 6.81]\n",
      " [ 7.18]\n",
      " [ 7.1 ]\n",
      " [ 7.1 ]\n",
      " [ 7.1 ]\n",
      " [10.85]\n",
      " [10.54]\n",
      " [10.77]\n",
      " [10.56]\n",
      " [ 8.6 ]\n",
      " [ 8.49]\n",
      " [ 8.45]\n",
      " [ 8.5 ]\n",
      " [24.58]\n",
      " [24.63]\n",
      " [24.63]\n",
      " [24.59]\n",
      " [29.03]\n",
      " [29.87]\n",
      " [29.14]\n",
      " [28.09]\n",
      " [26.28]\n",
      " [26.91]\n",
      " [26.37]\n",
      " [25.27]\n",
      " [23.53]\n",
      " [24.03]\n",
      " [23.54]\n",
      " [22.58]\n",
      " [35.56]\n",
      " [37.12]\n",
      " [36.9 ]\n",
      " [35.94]\n",
      " [32.96]\n",
      " [32.12]\n",
      " [32.94]\n",
      " [32.21]\n",
      " [10.36]\n",
      " [10.43]\n",
      " [10.36]\n",
      " [10.39]\n",
      " [10.71]\n",
      " [10.8 ]\n",
      " [10.7 ]\n",
      " [10.75]\n",
      " [11.11]\n",
      " [11.13]\n",
      " [11.09]\n",
      " [11.16]\n",
      " [11.68]\n",
      " [11.69]\n",
      " [11.7 ]\n",
      " [11.69]\n",
      " [15.41]\n",
      " [15.2 ]\n",
      " [15.42]\n",
      " [15.21]\n",
      " [12.96]\n",
      " [12.97]\n",
      " [12.93]\n",
      " [13.02]\n",
      " [24.29]\n",
      " [24.31]\n",
      " [24.13]\n",
      " [24.25]\n",
      " [28.88]\n",
      " [29.68]\n",
      " [28.83]\n",
      " [27.9 ]\n",
      " [26.48]\n",
      " [27.02]\n",
      " [26.33]\n",
      " [25.36]\n",
      " [23.75]\n",
      " [24.23]\n",
      " [23.67]\n",
      " [22.79]\n",
      " [35.65]\n",
      " [37.26]\n",
      " [36.97]\n",
      " [36.03]\n",
      " [33.16]\n",
      " [32.4 ]\n",
      " [33.12]\n",
      " [32.41]\n",
      " [10.42]\n",
      " [10.46]\n",
      " [10.32]\n",
      " [10.45]\n",
      " [10.64]\n",
      " [10.72]\n",
      " [10.55]\n",
      " [10.68]\n",
      " [11.45]\n",
      " [11.46]\n",
      " [11.32]\n",
      " [11.49]\n",
      " [11.45]\n",
      " [11.42]\n",
      " [11.33]\n",
      " [11.43]\n",
      " [15.41]\n",
      " [15.18]\n",
      " [15.34]\n",
      " [15.19]\n",
      " [12.88]\n",
      " [13.  ]\n",
      " [12.97]\n",
      " [13.04]\n",
      " [24.28]\n",
      " [24.4 ]\n",
      " [24.11]\n",
      " [24.35]\n",
      " [28.07]\n",
      " [29.01]\n",
      " [29.62]\n",
      " [29.05]\n",
      " [25.41]\n",
      " [26.47]\n",
      " [26.89]\n",
      " [26.46]\n",
      " [22.93]\n",
      " [23.84]\n",
      " [24.17]\n",
      " [23.87]\n",
      " [35.78]\n",
      " [35.48]\n",
      " [36.97]\n",
      " [36.7 ]\n",
      " [32.52]\n",
      " [33.28]\n",
      " [32.33]\n",
      " [33.24]\n",
      " [10.39]\n",
      " [10.34]\n",
      " [10.35]\n",
      " [10.38]\n",
      " [10.77]\n",
      " [10.68]\n",
      " [10.68]\n",
      " [10.7 ]\n",
      " [11.22]\n",
      " [11.16]\n",
      " [11.1 ]\n",
      " [11.14]\n",
      " [11.59]\n",
      " [11.6 ]\n",
      " [11.53]\n",
      " [11.61]\n",
      " [15.16]\n",
      " [15.36]\n",
      " [15.12]\n",
      " [15.36]\n",
      " [12.68]\n",
      " [12.63]\n",
      " [12.71]\n",
      " [12.73]\n",
      " [24.38]\n",
      " [24.23]\n",
      " [24.04]\n",
      " [24.32]\n",
      " [29.06]\n",
      " [28.05]\n",
      " [28.86]\n",
      " [29.79]\n",
      " [26.44]\n",
      " [25.37]\n",
      " [26.33]\n",
      " [27.03]\n",
      " [23.8 ]\n",
      " [22.8 ]\n",
      " [23.59]\n",
      " [24.24]\n",
      " [36.86]\n",
      " [35.89]\n",
      " [35.45]\n",
      " [37.1 ]\n",
      " [33.08]\n",
      " [32.38]\n",
      " [33.09]\n",
      " [32.31]\n",
      " [10.08]\n",
      " [10.15]\n",
      " [10.07]\n",
      " [10.14]\n",
      " [10.66]\n",
      " [10.68]\n",
      " [10.53]\n",
      " [10.72]\n",
      " [11.18]\n",
      " [11.22]\n",
      " [11.07]\n",
      " [11.2 ]\n",
      " [11.44]\n",
      " [11.42]\n",
      " [11.33]\n",
      " [11.43]\n",
      " [15.4 ]\n",
      " [15.19]\n",
      " [15.32]\n",
      " [15.16]\n",
      " [12.85]\n",
      " [13.04]\n",
      " [13.  ]\n",
      " [13.  ]\n",
      " [24.35]\n",
      " [24.33]\n",
      " [24.03]\n",
      " [24.26]\n",
      " [29.83]\n",
      " [29.08]\n",
      " [28.03]\n",
      " [29.02]\n",
      " [27.03]\n",
      " [26.45]\n",
      " [25.36]\n",
      " [26.45]\n",
      " [24.37]\n",
      " [23.89]\n",
      " [22.89]\n",
      " [23.86]\n",
      " [37.03]\n",
      " [36.71]\n",
      " [36.77]\n",
      " [35.48]\n",
      " [32.31]\n",
      " [33.21]\n",
      " [32.46]\n",
      " [33.27]\n",
      " [10.47]\n",
      " [10.37]\n",
      " [10.34]\n",
      " [10.39]\n",
      " [10.78]\n",
      " [10.7 ]\n",
      " [10.67]\n",
      " [13.69]\n",
      " [11.21]\n",
      " [11.14]\n",
      " [11.11]\n",
      " [11.16]\n",
      " [11.38]\n",
      " [11.34]\n",
      " [11.22]\n",
      " [11.34]\n",
      " [15.16]\n",
      " [15.37]\n",
      " [15.12]\n",
      " [15.36]\n",
      " [12.59]\n",
      " [12.74]\n",
      " [12.8 ]\n",
      " [12.62]\n",
      " [28.15]\n",
      " [28.15]\n",
      " [28.37]\n",
      " [28.41]\n",
      " [32.68]\n",
      " [33.48]\n",
      " [32.84]\n",
      " [32.  ]\n",
      " [29.54]\n",
      " [30.05]\n",
      " [29.6 ]\n",
      " [28.66]\n",
      " [26.84]\n",
      " [27.27]\n",
      " [26.97]\n",
      " [26.19]\n",
      " [38.67]\n",
      " [40.03]\n",
      " [39.86]\n",
      " [39.04]\n",
      " [36.96]\n",
      " [36.13]\n",
      " [36.91]\n",
      " [36.43]\n",
      " [12.43]\n",
      " [12.5 ]\n",
      " [12.41]\n",
      " [12.45]\n",
      " [12.57]\n",
      " [12.65]\n",
      " [12.57]\n",
      " [12.63]\n",
      " [12.78]\n",
      " [12.93]\n",
      " [12.73]\n",
      " [12.72]\n",
      " [13.17]\n",
      " [13.18]\n",
      " [13.17]\n",
      " [13.18]\n",
      " [17.5 ]\n",
      " [17.35]\n",
      " [17.52]\n",
      " [17.37]\n",
      " [15.09]\n",
      " [15.12]\n",
      " [15.08]\n",
      " [15.16]\n",
      " [28.67]\n",
      " [28.57]\n",
      " [28.18]\n",
      " [28.6 ]\n",
      " [32.46]\n",
      " [33.27]\n",
      " [32.33]\n",
      " [31.66]\n",
      " [29.34]\n",
      " [29.87]\n",
      " [29.27]\n",
      " [28.4 ]\n",
      " [25.74]\n",
      " [25.98]\n",
      " [25.38]\n",
      " [24.94]\n",
      " [38.57]\n",
      " [40.19]\n",
      " [39.97]\n",
      " [38.98]\n",
      " [36.95]\n",
      " [36.28]\n",
      " [36.86]\n",
      " [36.45]\n",
      " [12.35]\n",
      " [12.45]\n",
      " [12.16]\n",
      " [12.3 ]\n",
      " [12.33]\n",
      " [12.29]\n",
      " [12.2 ]\n",
      " [12.49]\n",
      " [12.85]\n",
      " [12.87]\n",
      " [12.73]\n",
      " [12.95]\n",
      " [13.05]\n",
      " [12.93]\n",
      " [12.77]\n",
      " [13.  ]\n",
      " [17.14]\n",
      " [16.84]\n",
      " [17.02]\n",
      " [17.11]\n",
      " [14.34]\n",
      " [14.66]\n",
      " [14.6 ]\n",
      " [14.6 ]\n",
      " [28.67]\n",
      " [28.56]\n",
      " [28.17]\n",
      " [28.63]\n",
      " [31.63]\n",
      " [32.4 ]\n",
      " [32.68]\n",
      " [32.29]\n",
      " [28.4 ]\n",
      " [29.4 ]\n",
      " [29.43]\n",
      " [29.07]\n",
      " [24.7 ]\n",
      " [25.48]\n",
      " [25.37]\n",
      " [25.17]\n",
      " [39.04]\n",
      " [38.35]\n",
      " [39.81]\n",
      " [39.83]\n",
      " [35.99]\n",
      " [36.59]\n",
      " [35.64]\n",
      " [36.52]\n",
      " [11.8 ]\n",
      " [12.03]\n",
      " [11.98]\n",
      " [11.69]\n",
      " [12.41]\n",
      " [12.28]\n",
      " [12.1 ]\n",
      " [12.19]\n",
      " [12.34]\n",
      " [12.46]\n",
      " [12.31]\n",
      " [12.12]\n",
      " [12.97]\n",
      " [13.01]\n",
      " [12.74]\n",
      " [12.84]\n",
      " [16.83]\n",
      " [16.93]\n",
      " [16.66]\n",
      " [16.86]\n",
      " [13.91]\n",
      " [14.34]\n",
      " [13.95]\n",
      " [13.99]\n",
      " [28.7 ]\n",
      " [28.55]\n",
      " [28.15]\n",
      " [28.62]\n",
      " [32.67]\n",
      " [31.69]\n",
      " [32.07]\n",
      " [33.28]\n",
      " [29.47]\n",
      " [28.42]\n",
      " [29.08]\n",
      " [29.88]\n",
      " [25.66]\n",
      " [24.96]\n",
      " [25.43]\n",
      " [26.  ]\n",
      " [40.  ]\n",
      " [38.84]\n",
      " [38.33]\n",
      " [40.12]\n",
      " [36.95]\n",
      " [36.45]\n",
      " [36.81]\n",
      " [36.26]\n",
      " [12.32]\n",
      " [12.3 ]\n",
      " [12.18]\n",
      " [12.43]\n",
      " [12.36]\n",
      " [12.49]\n",
      " [12.17]\n",
      " [12.28]\n",
      " [12.91]\n",
      " [12.95]\n",
      " [12.67]\n",
      " [12.86]\n",
      " [12.95]\n",
      " [13.  ]\n",
      " [12.86]\n",
      " [12.92]\n",
      " [16.99]\n",
      " [16.69]\n",
      " [16.56]\n",
      " [16.62]\n",
      " [14.33]\n",
      " [14.61]\n",
      " [14.61]\n",
      " [14.65]\n",
      " [28.69]\n",
      " [28.58]\n",
      " [28.15]\n",
      " [28.61]\n",
      " [33.13]\n",
      " [32.31]\n",
      " [31.53]\n",
      " [32.46]\n",
      " [29.71]\n",
      " [29.09]\n",
      " [28.31]\n",
      " [29.39]\n",
      " [25.7 ]\n",
      " [25.17]\n",
      " [24.6 ]\n",
      " [25.49]\n",
      " [39.89]\n",
      " [39.83]\n",
      " [39.01]\n",
      " [38.65]\n",
      " [35.69]\n",
      " [36.64]\n",
      " [36.06]\n",
      " [36.7 ]\n",
      " [12.12]\n",
      " [11.67]\n",
      " [11.64]\n",
      " [12.02]\n",
      " [12.27]\n",
      " [12.19]\n",
      " [12.25]\n",
      " [12.27]\n",
      " [12.47]\n",
      " [12.12]\n",
      " [12.18]\n",
      " [12.47]\n",
      " [12.93]\n",
      " [12.82]\n",
      " [12.78]\n",
      " [13.02]\n",
      " [16.73]\n",
      " [16.86]\n",
      " [16.76]\n",
      " [16.92]\n",
      " [13.68]\n",
      " [13.99]\n",
      " [14.16]\n",
      " [13.86]\n",
      " [32.26]\n",
      " [32.26]\n",
      " [32.49]\n",
      " [32.53]\n",
      " [36.47]\n",
      " [37.24]\n",
      " [36.66]\n",
      " [35.96]\n",
      " [31.89]\n",
      " [32.39]\n",
      " [32.09]\n",
      " [31.29]\n",
      " [29.22]\n",
      " [29.91]\n",
      " [29.53]\n",
      " [28.65]\n",
      " [41.4 ]\n",
      " [42.62]\n",
      " [42.5 ]\n",
      " [41.67]\n",
      " [40.78]\n",
      " [39.97]\n",
      " [40.71]\n",
      " [40.43]\n",
      " [14.52]\n",
      " [14.61]\n",
      " [14.5 ]\n",
      " [14.55]\n",
      " [14.51]\n",
      " [14.6 ]\n",
      " [14.5 ]\n",
      " [14.58]\n",
      " [14.51]\n",
      " [14.7 ]\n",
      " [14.42]\n",
      " [14.42]\n",
      " [15.23]\n",
      " [15.23]\n",
      " [15.23]\n",
      " [15.23]\n",
      " [19.52]\n",
      " [19.36]\n",
      " [19.48]\n",
      " [19.42]\n",
      " [15.09]\n",
      " [17.17]\n",
      " [17.14]\n",
      " [17.14]\n",
      " [32.82]\n",
      " [32.71]\n",
      " [32.24]\n",
      " [32.72]\n",
      " [35.84]\n",
      " [36.57]\n",
      " [36.06]\n",
      " [35.69]\n",
      " [32.48]\n",
      " [32.74]\n",
      " [32.13]\n",
      " [31.64]\n",
      " [28.95]\n",
      " [29.49]\n",
      " [28.64]\n",
      " [28.01]\n",
      " [41.64]\n",
      " [43.1 ]\n",
      " [42.74]\n",
      " [41.92]\n",
      " [40.78]\n",
      " [40.15]\n",
      " [40.57]\n",
      " [40.42]\n",
      " [14.54]\n",
      " [14.45]\n",
      " [14.18]\n",
      " [14.5 ]\n",
      " [14.7 ]\n",
      " [14.66]\n",
      " [14.4 ]\n",
      " [14.71]\n",
      " [14.75]\n",
      " [14.71]\n",
      " [14.33]\n",
      " [14.62]\n",
      " [15.34]\n",
      " [15.29]\n",
      " [15.09]\n",
      " [15.3 ]\n",
      " [19.2 ]\n",
      " [18.88]\n",
      " [18.9 ]\n",
      " [19.12]\n",
      " [16.76]\n",
      " [17.23]\n",
      " [17.26]\n",
      " [17.15]\n",
      " [32.82]\n",
      " [32.69]\n",
      " [32.23]\n",
      " [32.75]\n",
      " [34.24]\n",
      " [34.95]\n",
      " [35.05]\n",
      " [34.29]\n",
      " [31.28]\n",
      " [32.12]\n",
      " [32.05]\n",
      " [31.84]\n",
      " [28.67]\n",
      " [29.67]\n",
      " [29.47]\n",
      " [28.91]\n",
      " [41.26]\n",
      " [41.3 ]\n",
      " [42.49]\n",
      " [42.08]\n",
      " [39.32]\n",
      " [39.84]\n",
      " [38.89]\n",
      " [39.68]\n",
      " [13.97]\n",
      " [14.22]\n",
      " [14.1 ]\n",
      " [13.78]\n",
      " [14.07]\n",
      " [14.03]\n",
      " [13.94]\n",
      " [13.86]\n",
      " [14.32]\n",
      " [14.56]\n",
      " [14.33]\n",
      " [14.08]\n",
      " [15.16]\n",
      " [15.18]\n",
      " [14.72]\n",
      " [14.9 ]\n",
      " [18.48]\n",
      " [18.71]\n",
      " [18.48]\n",
      " [18.46]\n",
      " [16.47]\n",
      " [16.35]\n",
      " [16.55]\n",
      " [16.74]\n",
      " [32.85]\n",
      " [32.67]\n",
      " [32.21]\n",
      " [32.74]\n",
      " [36.45]\n",
      " [35.73]\n",
      " [35.4 ]\n",
      " [36.57]\n",
      " [32.38]\n",
      " [31.66]\n",
      " [32.15]\n",
      " [32.75]\n",
      " [28.93]\n",
      " [28.05]\n",
      " [28.64]\n",
      " [29.52]\n",
      " [42.77]\n",
      " [41.73]\n",
      " [41.32]\n",
      " [42.96]\n",
      " [40.68]\n",
      " [40.4 ]\n",
      " [40.6 ]\n",
      " [40.11]\n",
      " [14.37]\n",
      " [14.48]\n",
      " [14.32]\n",
      " [14.44]\n",
      " [14.6 ]\n",
      " [14.7 ]\n",
      " [14.47]\n",
      " [14.66]\n",
      " [14.54]\n",
      " [14.62]\n",
      " [14.53]\n",
      " [14.71]\n",
      " [15.34]\n",
      " [15.29]\n",
      " [15.09]\n",
      " [15.3 ]\n",
      " [19.06]\n",
      " [19.13]\n",
      " [19.  ]\n",
      " [18.84]\n",
      " [16.44]\n",
      " [16.9 ]\n",
      " [16.94]\n",
      " [16.77]\n",
      " [32.84]\n",
      " [32.72]\n",
      " [32.21]\n",
      " [32.73]\n",
      " [35.67]\n",
      " [35.01]\n",
      " [34.72]\n",
      " [35.24]\n",
      " [32.31]\n",
      " [31.81]\n",
      " [31.12]\n",
      " [32.06]\n",
      " [30.  ]\n",
      " [29.5 ]\n",
      " [29.06]\n",
      " [29.92]\n",
      " [42.11]\n",
      " [41.96]\n",
      " [41.09]\n",
      " [40.79]\n",
      " [38.82]\n",
      " [39.72]\n",
      " [39.31]\n",
      " [39.86]\n",
      " [14.41]\n",
      " [14.19]\n",
      " [14.17]\n",
      " [14.39]\n",
      " [12.43]\n",
      " [12.63]\n",
      " [12.76]\n",
      " [12.42]\n",
      " [14.12]\n",
      " [14.28]\n",
      " [14.37]\n",
      " [14.21]\n",
      " [14.96]\n",
      " [14.92]\n",
      " [14.92]\n",
      " [15.16]\n",
      " [17.69]\n",
      " [18.19]\n",
      " [18.16]\n",
      " [17.88]\n",
      " [16.54]\n",
      " [16.44]\n",
      " [16.48]\n",
      " [16.64]]\n",
      "[21.33 21.33 21.33 21.33 28.28 25.38 25.16 29.6  27.3  21.97 23.49 27.87\n",
      " 23.77 21.46 21.16 24.93 37.73 31.27 30.93 39.44 29.79 29.68 29.79 29.4\n",
      " 10.9  11.19 10.94 11.17 11.27 11.72 11.29 11.67 11.74 12.05 11.73 11.93\n",
      " 12.4  12.23 12.4  12.14 16.78 16.8  16.75 16.67 12.07 12.22 12.08 12.04\n",
      " 26.47 26.37 26.44 26.29 32.92 29.87 29.58 34.33 30.89 25.6  27.03 31.73\n",
      " 27.31 24.91 24.61 28.51 41.68 35.28 34.43 43.33 33.87 34.07 34.14 33.67\n",
      " 13.43 13.71 13.48 13.7  13.8  14.28 13.87 14.27 14.28 14.61 14.3  14.45\n",
      " 13.9  13.72 13.88 13.65 19.37 19.43 19.34 19.32 14.34 14.5  14.33 14.27\n",
      " 25.95 25.63 26.13 25.89 32.54 29.44 29.36 34.2  30.91 25.63 27.36 31.9\n",
      " 27.38 25.02 24.8  28.79 41.07 34.62 33.87 42.86 33.91 34.07 34.17 33.78\n",
      " 13.39 13.72 13.57 13.79 13.67 14.11 13.8  14.21 13.2  13.54 13.32 13.51\n",
      " 14.86 14.75 15.   14.74 19.23 19.34 19.32 19.3  14.37 14.57 14.27 14.24\n",
      " 25.68 26.02 25.84 26.14 34.14 32.85 30.08 29.67 31.73 31.01 25.9  27.4\n",
      " 28.68 27.54 25.35 24.93 43.12 41.22 35.1  34.29 33.85 34.11 34.48 34.5\n",
      " 13.6  13.36 13.65 13.49 14.14 13.77 14.3  13.87 14.44 14.27 14.67 14.4\n",
      " 13.46 13.7  13.59 13.83 19.14 19.18 19.37 19.29 14.09 14.23 14.14 13.89\n",
      " 25.91 25.72 26.18 25.87 29.34 33.91 32.83 29.92 27.17 31.76 31.06 25.81\n",
      " 24.61 28.61 27.57 25.16 34.25 43.3  41.86 35.29 34.11 33.62 33.89 34.05\n",
      " 13.2  13.36 13.21 13.53 13.67 14.12 13.79 14.2  14.29 14.49 14.42 14.73\n",
      " 14.86 14.67 15.   14.83 19.24 19.25 19.42 19.48 14.37 14.34 14.28 14.47\n",
      " 25.64 25.98 25.88 26.18 29.82 29.52 34.45 33.01 25.82 27.33 32.04 31.28\n",
      " 25.11 24.77 28.88 27.69 34.99 34.18 43.14 41.26 34.25 34.35 33.64 33.88\n",
      " 13.65 13.44 13.72 13.5  14.18 13.75 14.26 13.89 14.55 14.28 14.46 14.39\n",
      " 14.54 14.81 14.65 14.87 19.24 19.18 19.26 19.29 14.24 13.97 13.99 14.15\n",
      " 29.79 29.79 29.28 29.49 36.12 33.17 32.71 37.58 33.98 28.61 30.12 34.73\n",
      " 30.17 27.84 27.25 31.39 43.8  37.81 36.85 45.52 36.85 37.58 37.45 36.62\n",
      " 15.19 15.5  15.28 15.5  15.42 15.85 15.44 15.81 15.21 15.63 15.48 15.78\n",
      " 16.39 16.27 16.39 16.19 21.13 21.19 21.09 21.08 15.77 15.95 15.77 15.76\n",
      " 29.62 29.69 30.18 30.02 35.56 32.64 32.77 37.72 33.37 27.89 29.9  34.52\n",
      " 28.27 26.96 26.72 29.88 43.86 37.41 36.77 45.97 36.87 37.35 37.28 36.81\n",
      " 14.73 15.1  15.18 15.44 14.91 15.4  14.94 15.32 15.52 15.85 15.66 15.99\n",
      " 15.89 15.85 16.22 15.87 20.47 20.56 20.48 20.43 15.32 15.64 15.14 15.3\n",
      " 29.43 29.78 30.1  30.19 36.35 35.1  32.83 32.46 33.52 32.93 28.38 29.82\n",
      " 28.77 27.76 26.95 26.41 45.13 43.66 37.76 36.87 36.07 36.44 37.28 37.29\n",
      " 14.49 13.79 14.72 14.76 14.92 14.74 15.57 14.94 14.92 14.38 15.44 15.17\n",
      " 15.53 15.8  16.14 16.26 19.87 20.03 20.46 20.28 14.89 14.96 14.89 14.35\n",
      " 29.61 29.59 30.19 30.12 32.12 37.12 36.16 33.16 29.45 34.19 33.93 28.31\n",
      " 26.3  29.43 28.76 27.34 36.26 45.48 44.16 37.26 37.2  36.76 37.05 37.51\n",
      " 14.92 15.24 15.03 15.35 14.67 15.09 15.2  15.64 15.37 15.73 15.83 16.13\n",
      " 15.95 15.59 16.17 16.14 19.65 19.76 20.37 19.9  15.41 15.56 15.07 15.38\n",
      " 29.53 29.77 30.   30.2  32.25 32.   37.19 35.62 28.02 29.43 34.15 33.47\n",
      " 26.53 26.08 29.31 28.14 37.54 36.66 45.28 43.73 36.93 37.01 35.73 36.15\n",
      " 14.48 14.58 14.81 14.03 15.27 14.71 15.23 14.97 15.14 14.97 15.22 14.6\n",
      " 15.83 16.03 15.8  16.06 20.13 20.01 20.19 20.29 15.19 14.61 14.61 14.75\n",
      " 33.37 33.34 32.83 33.04 39.28 36.38 35.92 40.99 35.99 30.66 31.7  36.73\n",
      " 31.71 29.13 28.99 33.54 45.29 39.07 38.35 46.94 39.55 40.85 40.63 39.48\n",
      " 16.94 17.25 17.03 17.25 17.1  17.51 17.12 17.47 16.5  17.   16.87 17.2\n",
      " 18.14 18.03 18.14 17.95 22.72 22.73 22.72 22.53 17.2  17.21 17.15 17.2\n",
      " 32.96 33.13 33.94 33.78 38.35 35.39 34.94 40.66 35.48 30.53 32.28 36.86\n",
      " 30.34 27.93 28.95 32.92 45.59 39.41 38.84 48.03 39.48 40.4  40.47 39.7\n",
      " 16.43 16.93 16.99 17.03 16.77 17.37 17.27 17.51 16.44 17.01 17.23 17.22\n",
      " 17.85 17.89 18.36 18.15 21.72 22.07 22.09 21.93 17.36 17.38 16.86 16.99\n",
      " 32.78 33.24 33.86 34.   37.26 35.04 33.82 33.31 35.22 34.7  30.11 31.6\n",
      " 32.43 30.65 29.77 29.64 46.44 44.18 38.81 38.23 38.17 38.48 39.66 40.1\n",
      " 16.08 15.39 16.57 16.6  16.11 15.47 16.7  16.1  16.35 15.84 16.99 17.02\n",
      " 17.04 17.63 18.1  18.22 20.78 20.72 21.54 21.53 16.9  17.14 16.56 16.\n",
      " 32.95 33.06 33.95 33.88 33.98 39.92 39.22 36.1  31.53 36.2  36.21 31.\n",
      " 28.2  32.35 31.14 28.43 38.33 47.59 46.23 39.56 40.36 39.67 39.85 40.77\n",
      " 16.61 16.74 16.9  17.32 16.85 17.2  17.23 17.74 16.81 16.88 16.9  17.39\n",
      " 17.86 17.82 18.36 18.24 21.68 21.54 22.25 22.49 17.1  16.79 16.58 16.79\n",
      " 32.88 33.23 33.76 34.01 33.94 33.14 38.79 37.27 29.69 31.2  36.26 35.71\n",
      " 29.93 29.56 33.84 32.54 38.56 37.7  47.01 44.87 39.37 39.8  37.79 38.18\n",
      " 16.69 16.62 16.94 16.7  15.59 14.58 15.33 15.31 16.63 15.87 16.54 16.74\n",
      " 17.64 17.79 17.55 18.06 20.82 20.21 20.71 21.4  16.88 17.11 16.61 16.03]\n"
     ]
    }
   ],
   "source": [
    "x=data['Heating_Load'].values.reshape(-1,1)\n",
    "y=data['Cooling_Load'].values\n",
    "\n",
    "print(x)\n",
    "print(y)\n"
   ]
  },
  {
   "cell_type": "code",
   "execution_count": 645,
   "metadata": {},
   "outputs": [
    {
     "data": {
      "text/plain": [
       "<matplotlib.collections.PathCollection at 0x16dddf68be0>"
      ]
     },
     "execution_count": 645,
     "metadata": {},
     "output_type": "execute_result"
    },
    {
     "data": {
      "image/png": "[encoded data removed]",
      "text/plain": [
       "<Figure size 1080x720 with 1 Axes>"
      ]
     },
     "metadata": {},
     "output_type": "display_data"
    }
   ],
   "source": [
    "plt.scatter(x,y)"
   ]
  },
  {
   "cell_type": "markdown",
   "metadata": {},
   "source": [
    "Vom antrena setul de date si vom calcula un scor.\n",
    "\n",
    "r_patrat reprezinta procentul din variatia totala care este explicata de variabilele independente"
   ]
  },
  {
   "cell_type": "code",
   "execution_count": 646,
   "metadata": {},
   "outputs": [
    {
     "name": "stdout",
     "output_type": "stream",
     "text": [
      "coef de determinare:  0.9523062789164656\n",
      "constanta/intercept:  4.063607085253352\n",
      "panta/slope:  [0.92006854]\n"
     ]
    }
   ],
   "source": [
    "model=LinearRegression()\n",
    "model.fit(x,y)\n",
    "\n",
    "r_patrat = model.score(x,y)\n",
    "\n",
    "print(\"coef de determinare: \", r_patrat)\n",
    "print(\"constanta/intercept: \", model.intercept_)\n",
    "print(\"panta/slope: \", model.coef_)"
   ]
  },
  {
   "cell_type": "code",
   "execution_count": 647,
   "metadata": {},
   "outputs": [
    {
     "name": "stdout",
     "output_type": "stream",
     "text": [
      "[[15.08]\n",
      " [15.19]\n",
      " [32.31]\n",
      " [41.67]\n",
      " [29.63]\n",
      " [43.1 ]\n",
      " [12.88]\n",
      " [13.17]\n",
      " [10.34]\n",
      " [32.23]\n",
      " [11.16]\n",
      " [24.03]\n",
      " [31.28]\n",
      " [29.92]\n",
      " [ 6.4 ]\n",
      " [15.16]\n",
      " [40.42]\n",
      " [14.6 ]\n",
      " [36.43]\n",
      " [14.34]\n",
      " [11.53]\n",
      " [32.13]\n",
      " [36.57]\n",
      " [12.91]\n",
      " [10.72]\n",
      " [29.4 ]\n",
      " [16.48]\n",
      " [19.48]\n",
      " [16.74]\n",
      " [12.41]\n",
      " [14.21]\n",
      " [11.22]\n",
      " [13.99]\n",
      " [15.12]\n",
      " [36.7 ]\n",
      " [27.03]\n",
      " [32.15]\n",
      " [10.36]\n",
      " [33.28]\n",
      " [42.08]\n",
      " [26.48]\n",
      " [36.97]\n",
      " [12.63]\n",
      " [12.96]\n",
      " [14.34]\n",
      " [15.2 ]\n",
      " [12.46]\n",
      " [14.61]\n",
      " [19.13]\n",
      " [14.71]\n",
      " [11.64]\n",
      " [18.31]\n",
      " [10.56]\n",
      " [10.77]\n",
      " [33.24]\n",
      " [32.74]\n",
      " [18.48]\n",
      " [14.66]\n",
      " [11.1 ]\n",
      " [14.62]\n",
      " [12.78]\n",
      " [11.16]\n",
      " [36.47]\n",
      " [31.29]\n",
      " [36.71]\n",
      " [19.2 ]\n",
      " [29.47]\n",
      " [15.98]\n",
      " [14.61]\n",
      " [37.03]\n",
      " [31.63]\n",
      " [12.35]\n",
      " [12.49]\n",
      " [25.43]\n",
      " [29.49]\n",
      " [32.33]\n",
      " [36.45]\n",
      " [16.66]\n",
      " [19.95]\n",
      " [26.45]\n",
      " [24.77]\n",
      " [10.68]\n",
      " [14.16]\n",
      " [12.42]\n",
      " [14.12]\n",
      " [16.83]\n",
      " [39.32]\n",
      " [27.03]\n",
      " [35.69]\n",
      " [12.97]\n",
      " [12.87]\n",
      " [15.09]\n",
      " [16.76]\n",
      " [12.59]\n",
      " [15.16]\n",
      " [17.15]\n",
      " [12.29]\n",
      " [26.47]\n",
      " [10.39]\n",
      " [12.74]\n",
      " [11.34]\n",
      " [32.96]\n",
      " [40.11]\n",
      " [12.68]\n",
      " [13.69]\n",
      " [12.85]\n",
      " [15.41]\n",
      " [13.94]\n",
      " [32.4 ]\n",
      " [10.72]\n",
      " [32.12]\n",
      " [28.15]\n",
      " [13.  ]\n",
      " [15.55]\n",
      " [15.16]\n",
      " [12.85]\n",
      " [32.85]\n",
      " [28.15]\n",
      " [11.22]\n",
      " [14.18]\n",
      " [33.16]\n",
      " [11.44]\n",
      " [42.62]\n",
      " [14.32]\n",
      " [37.24]\n",
      " [11.11]\n",
      " [12.57]\n",
      " [32.49]\n",
      " [24.28]\n",
      " [14.65]\n",
      " [40.57]\n",
      " [14.37]\n",
      " [15.3 ]\n",
      " [10.78]\n",
      " [14.22]\n",
      " [39.04]\n",
      " [36.91]\n",
      " [12.97]\n",
      " [ 8.45]\n",
      " [25.98]\n",
      " [12.95]\n",
      " [41.92]\n",
      " [33.21]\n",
      " [24.32]\n",
      " [16.64]\n",
      " [39.84]\n",
      " [25.36]\n",
      " [25.27]\n",
      " [32.24]\n",
      " [18.48]\n",
      " [28.88]\n",
      " [24.96]\n",
      " [41.73]\n",
      " [35.24]\n",
      " [12.84]\n",
      " [11.14]\n",
      " [38.67]\n",
      " [25.37]\n",
      " [25.66]\n",
      " [40.79]\n",
      " [29.01]\n",
      " [10.64]\n",
      " [14.62]\n",
      " [16.35]\n",
      " [15.36]\n",
      " [32.21]\n",
      " [25.49]\n",
      " [32.67]\n",
      " [14.92]\n",
      " [17.14]\n",
      " [12.93]\n",
      " [40.19]\n",
      " [15.29]\n",
      " [12.97]\n",
      " [35.67]\n",
      " [13.  ]\n",
      " [25.17]\n",
      " [25.17]\n",
      " [12.78]\n",
      " [28.75]\n",
      " [10.77]\n",
      " [32.75]\n",
      " [12.43]\n",
      " [32.68]\n",
      " [18.84]\n",
      " [17.05]\n",
      " [36.52]\n",
      " [11.8 ]\n",
      " [40.03]\n",
      " [39.97]\n",
      " [ 6.05]\n",
      " [32.82]\n",
      " [10.34]\n",
      " [ 7.1 ]\n",
      " [12.02]\n",
      " [29.08]\n",
      " [29.6 ]\n",
      " [41.3 ]\n",
      " [12.34]\n",
      " [13.86]\n",
      " [11.21]\n",
      " [28.64]\n",
      " [26.89]\n",
      " [10.55]\n",
      " [29.47]\n",
      " [33.27]\n",
      " [13.95]\n",
      " [12.62]\n",
      " [37.26]\n",
      " [14.7 ]\n",
      " [10.68]\n",
      " [36.45]\n",
      " [38.33]\n",
      " [26.91]\n",
      " [32.53]\n",
      " [10.53]\n",
      " [15.16]\n",
      " [29.9 ]\n",
      " [16.92]\n",
      " [12.73]\n",
      " [23.86]\n",
      " [12.82]\n",
      " [17.26]\n",
      " [41.96]\n",
      " [12.71]\n",
      " [36.03]\n",
      " [30.  ]\n",
      " [12.86]\n",
      " [12.93]\n",
      " [11.59]\n",
      " [27.27]\n",
      " [42.11]\n",
      " [19.36]\n",
      " [34.24]\n",
      " [32.39]\n",
      " [32.38]\n",
      " [16.86]\n",
      " [21.46]\n",
      " [14.28]\n",
      " [ 8.49]\n",
      " [38.65]\n",
      " [32.48]\n",
      " [10.38]\n",
      " [28.52]\n",
      " [24.58]\n",
      " [39.86]\n",
      " [14.54]\n",
      " [15.55]\n",
      " [17.23]\n",
      " [28.65]\n",
      " [12.57]\n",
      " [29.91]\n",
      " [28.69]\n",
      " [26.  ]\n",
      " [15.34]\n",
      " [15.36]\n",
      " [24.29]\n",
      " [12.74]\n",
      " [12.47]\n",
      " [11.22]\n",
      " [ 6.01]\n",
      " [14.71]\n",
      " [33.27]\n",
      " [31.69]\n",
      " [24.63]\n",
      " [12.33]\n",
      " [11.42]\n",
      " [ 7.1 ]\n",
      " [23.84]\n",
      " [13.04]\n",
      " [41.09]\n",
      " [12.77]\n",
      " [13.  ]\n",
      " [12.73]\n",
      " [29.08]\n",
      " [38.82]\n",
      " [10.7 ]\n",
      " [13.86]\n",
      " [10.68]\n",
      " [19.42]\n",
      " [24.04]\n",
      " [14.56]\n",
      " [18.71]\n",
      " [36.7 ]\n",
      " [39.31]\n",
      " [32.72]\n",
      " [39.72]\n",
      " [36.97]\n",
      " [14.52]\n",
      " [25.41]\n",
      " [31.89]\n",
      " [40.43]\n",
      " [28.01]\n",
      " [22.79]\n",
      " [11.07]\n",
      " [29.53]\n",
      " [27.9 ]\n",
      " [13.01]\n",
      " [12.12]\n",
      " [32.41]\n",
      " [29.87]\n",
      " [29.05]\n",
      " [39.83]\n",
      " [32.73]\n",
      " [24.24]\n",
      " [14.1 ]\n",
      " [40.15]\n",
      " [19.5 ]\n",
      " [32.69]\n",
      " [ 7.18]\n",
      " [36.95]\n",
      " [23.89]\n",
      " [26.19]\n",
      " [32.74]\n",
      " [14.5 ]\n",
      " [34.72]\n",
      " [32.46]\n",
      " [30.05]\n",
      " [12.1 ]\n",
      " [29.62]\n",
      " [15.29]\n",
      " [28.93]\n",
      " [40.71]\n",
      " [29.71]\n",
      " [24.35]\n",
      " [24.11]\n",
      " [15.23]\n",
      " [19.06]\n",
      " [35.84]\n",
      " [25.74]\n",
      " [12.28]\n",
      " [13.18]\n",
      " [15.12]\n",
      " [10.45]\n",
      " [14.32]\n",
      " [13.04]\n",
      " [29.5 ]\n",
      " [28.05]\n",
      " [11.34]\n",
      " [33.48]\n",
      " [39.04]\n",
      " [10.32]\n",
      " [11.61]\n",
      " [26.33]\n",
      " [32.07]\n",
      " [28.03]\n",
      " [12.19]\n",
      " [32.75]\n",
      " [11.46]\n",
      " [39.81]\n",
      " [14.71]\n",
      " [14.45]\n",
      " [14.48]\n",
      " [10.14]\n",
      " [31.12]\n",
      " [28.95]\n",
      " [14.47]\n",
      " [40.78]\n",
      " [28.17]\n",
      " [14.41]\n",
      " [12.19]\n",
      " [10.39]\n",
      " [32.05]\n",
      " [28.42]\n",
      " [39.89]\n",
      " [35.65]\n",
      " [15.4 ]\n",
      " [16.55]\n",
      " [12.93]\n",
      " [15.19]\n",
      " [14.33]\n",
      " [12.65]\n",
      " [11.98]\n",
      " [42.77]\n",
      " [36.86]\n",
      " [36.77]\n",
      " [15.12]\n",
      " [17.14]\n",
      " [28.67]\n",
      " [11.18]\n",
      " [31.81]\n",
      " [35.05]\n",
      " [16.99]\n",
      " [28.4 ]\n",
      " [11.67]\n",
      " [14.96]\n",
      " [15.09]\n",
      " [40.4 ]\n",
      " [14.33]\n",
      " [13.78]\n",
      " [14.51]\n",
      " [32.71]\n",
      " [11.69]\n",
      " [24.03]\n",
      " [23.87]\n",
      " [13.68]\n",
      " [ 6.81]\n",
      " [29.22]\n",
      " [10.35]\n",
      " [15.16]\n",
      " [14.07]\n",
      " [32.21]\n",
      " [13.02]\n",
      " [14.42]\n",
      " [24.35]\n",
      " [17.14]\n",
      " [12.36]\n",
      " [14.61]\n",
      " [36.45]\n",
      " [23.59]\n",
      " [28.4 ]\n",
      " [25.48]\n",
      " [14.03]\n",
      " [10.15]\n",
      " [20.84]\n",
      " [42.49]\n",
      " [29.52]\n",
      " [15.34]\n",
      " [42.5 ]\n",
      " [24.13]\n",
      " [17.17]\n",
      " [35.64]\n",
      " [36.06]\n",
      " [ 8.5 ]\n",
      " [ 6.85]\n",
      " [26.44]\n",
      " [11.33]\n",
      " [ 6.04]\n",
      " [35.4 ]\n",
      " [11.33]\n",
      " [29.09]\n",
      " [17.02]\n",
      " [28.15]\n",
      " [12.31]\n",
      " [32.29]\n",
      " [41.64]\n",
      " [39.01]\n",
      " [15.34]\n",
      " [23.54]\n",
      " [12.92]\n",
      " [39.68]\n",
      " [11.45]\n",
      " [14.39]\n",
      " [16.73]\n",
      " [35.56]\n",
      " [16.95]\n",
      " [22.93]\n",
      " [10.85]\n",
      " [25.7 ]\n",
      " [17.11]\n",
      " [15.36]\n",
      " [10.08]\n",
      " [29.03]\n",
      " [28.57]\n",
      " [32.  ]\n",
      " [26.45]\n",
      " [12.49]\n",
      " [36.26]\n",
      " [16.44]\n",
      " [10.7 ]\n",
      " [25.37]\n",
      " [35.48]\n",
      " [14.55]\n",
      " [38.35]\n",
      " [14.33]\n",
      " [27.02]\n",
      " [15.23]\n",
      " [32.4 ]\n",
      " [15.55]\n",
      " [16.9 ]\n",
      " [14.7 ]\n",
      " [11.11]\n",
      " [22.8 ]\n",
      " [ 6.77]\n",
      " [12.27]\n",
      " [16.86]\n",
      " [36.81]\n",
      " [12.2 ]\n",
      " [15.21]\n",
      " [28.6 ]\n",
      " [15.23]\n",
      " [29.87]\n",
      " [24.33]\n",
      " [17.41]\n",
      " [12.45]\n",
      " [14.54]\n",
      " [28.63]\n",
      " [11.14]\n",
      " [32.33]\n",
      " [18.19]\n",
      " [38.89]\n",
      " [33.13]\n",
      " [12.76]\n",
      " [12.12]\n",
      " [24.26]\n",
      " [15.23]\n",
      " [14.42]\n",
      " [28.64]\n",
      " [12.63]\n",
      " [14.44]\n",
      " [16.62]\n",
      " [31.66]\n",
      " [12.25]\n",
      " [26.37]\n",
      " [16.56]\n",
      " [14.51]\n",
      " [24.37]\n",
      " [23.93]\n",
      " [12.5 ]\n",
      " [12.43]\n",
      " [35.78]\n",
      " [11.38]\n",
      " [12.73]\n",
      " [28.56]\n",
      " [12.28]\n",
      " [29.39]\n",
      " [31.66]\n",
      " [36.96]\n",
      " [15.18]\n",
      " [11.32]\n",
      " [14.9 ]\n",
      " [24.25]\n",
      " [13.05]\n",
      " [11.69]\n",
      " [12.18]\n",
      " [17.52]\n",
      " [33.09]\n",
      " [12.67]\n",
      " [10.46]\n",
      " [15.09]\n",
      " [24.77]\n",
      " [14.6 ]\n",
      " [32.21]\n",
      " [26.33]\n",
      " [10.67]\n",
      " [28.62]\n",
      " [28.83]]\n",
      "[15.77 19.3  32.   46.94 30.93 39.41 14.37 16.39 13.72 33.86 14.45 24.91\n",
      " 35.22 32.54 11.72 15.76 39.7  17.51 36.62 14.96 13.59 32.28 36.1  15.37\n",
      " 14.2  32.93 16.61 22.72 16.   14.92 16.74 14.44 14.61 15.95 34.29 25.82\n",
      " 36.21 13.48 33.16 38.23 30.91 33.87 14.58 14.34 15.32 19.43 14.38 15.56\n",
      " 21.54 17.39 14.81 27.87 16.67 16.75 34.5  33.88 21.54 15.64 14.67 16.88\n",
      " 15.8  14.27 39.28 36.73 34.18 21.72 29.45 24.93 15.07 34.99 36.35 14.73\n",
      " 15.32 28.76 27.93 32.77 36.76 20.46 21.97 27.33 29.79 14.12 14.61 15.31\n",
      " 16.63 19.87 38.17 25.81 36.93 14.5  15.85 15.77 20.19 14.24 19.14 16.99\n",
      " 15.4  31.01 13.7  16.14 14.81 33.87 40.77 14.09 13.89 14.37 19.37 16.7\n",
      " 34.07 14.11 34.7  29.79 14.28 21.33 18.06 15.52 32.95 30.19 14.65 16.99\n",
      " 33.91 14.86 39.07 16.9  36.38 14.46 15.44 32.83 25.68 15.38 40.47 16.61\n",
      " 18.24 14.18 15.39 45.52 37.45 15.53 12.08 26.96 15.99 48.03 34.35 25.87\n",
      " 16.03 38.48 31.9  31.73 33.94 20.78 32.54 29.43 47.59 37.27 16.26 14.4\n",
      " 43.8  26.95 26.3  44.87 32.85 13.67 17.22 17.14 19.18 33.95 28.14 32.12\n",
      " 17.79 17.2  15.63 37.41 17.82 14.27 33.94 14.57 26.41 26.08 15.21 39.44\n",
      " 14.14 34.   15.19 32.83 22.49 23.77 37.29 14.49 37.81 36.77 11.19 32.96\n",
      " 13.36 12.4  14.03 29.52 30.12 44.18 14.92 14.75 14.55 28.95 25.9  13.8\n",
      " 29.77 32.64 14.89 14.15 34.62 17.2  13.77 36.81 44.16 25.6  33.04 13.79\n",
      " 19.24 31.27 20.29 15.48 27.69 16.03 16.86 37.7  14.14 42.86 29.93 16.13\n",
      " 14.33 13.46 27.84 38.56 22.73 37.26 30.66 31.53 20.01 25.38 15.87 12.22\n",
      " 43.73 35.48 13.49 37.73 26.47 38.18 16.81 21.33 17.38 33.54 15.42 29.13\n",
      " 29.53 27.34 17.86 19.29 25.95 13.97 14.6  14.49 10.94 17.51 33.88 37.12\n",
      " 26.44 14.91 14.67 12.23 27.54 14.34 47.01 16.22 15.59 15.66 33.93 39.37\n",
      " 13.87 16.1  14.21 22.53 26.18 15.84 20.72 36.15 37.79 33.23 39.8  35.1\n",
      " 16.94 31.73 35.99 39.48 32.92 28.79 14.42 28.99 34.2  15.8  15.17 33.78\n",
      " 29.87 29.67 36.87 34.01 25.16 16.57 40.4  27.3  33.24 12.4  37.2  24.77\n",
      " 31.39 30.53 17.12 38.79 33.64 28.61 15.57 30.08 17.89 28.2  40.63 28.02\n",
      " 26.14 25.84 17.95 21.68 38.35 28.27 15.64 16.27 19.37 13.79 16.35 14.24\n",
      " 29.56 33.91 14.87 33.17 45.13 13.57 13.83 31.06 36.16 34.45 14.94 31.\n",
      " 13.54 37.76 17.01 16.93 16.74 13.53 36.26 30.34 17.23 39.48 30.1  16.69\n",
      " 14.71 13.5  30.11 34.19 37.54 41.07 19.24 16.56 15.85 19.25 17.23 15.85\n",
      " 14.72 38.33 37.28 43.14 19.26 20.47 29.43 14.29 31.2  33.82 19.65 34.52\n",
      " 14.58 17.64 18.36 39.67 16.99 16.6  17.1  33.13 13.72 25.88 24.93 15.19\n",
      " 11.93 31.71 13.65 17.04 16.11 33.76 14.27 17.2  25.64 17.15 14.67 17.25\n",
      " 33.98 27.57 33.52 27.76 15.47 13.36 28.28 38.81 28.43 17.85 38.35 26.13\n",
      " 17.21 37.28 35.73 12.04 11.74 27.17 15.   11.17 39.22 15.   29.43 20.48\n",
      " 29.79 15.44 32.46 45.59 45.28 19.32 24.61 16.14 40.1  13.2  16.7  20.13\n",
      " 41.68 21.16 28.68 16.78 26.53 20.43 19.29 13.2  32.92 29.69 37.58 31.28\n",
      " 15.09 37.51 17.11 13.75 31.76 41.22 17.25 43.66 15.41 25.63 18.03 35.1\n",
      " 21.33 16.79 17.   14.28 28.61 11.73 15.27 20.28 37.05 14.94 19.32 30.02\n",
      " 18.14 27.89 25.98 21.46 15.5  16.43 30.19 14.28 34.48 20.21 39.66 32.25\n",
      " 15.33 14.48 26.18 18.14 16.87 31.14 14.23 17.32 19.9  36.2  15.23 27.03\n",
      " 20.37 16.5  25.11 29.68 15.5  15.35 43.12 14.54 13.89 29.78 14.74 33.47\n",
      " 37.72 36.85 17.63 13.32 18.22 25.89 15.89 13.65 15.03 21.09 33.89 15.83\n",
      " 13.72 18.36 29.79 16.85 33.67 27.36 14.26 30.12 29.36]\n"
     ]
    }
   ],
   "source": [
    "from sklearn.model_selection import train_test_split\n",
    "\n",
    "x_train, x_test, y_train, y_test = train_test_split(x, y, train_size=0.7, test_size=0.3, random_state=42)\n",
    "\n",
    "print(x_train)\n",
    "print (y_train)"
   ]
  },
  {
   "cell_type": "code",
   "execution_count": 648,
   "metadata": {},
   "outputs": [],
   "source": [
    "y_prezis = model.predict(x_test)"
   ]
  },
  {
   "cell_type": "code",
   "execution_count": 649,
   "metadata": {},
   "outputs": [
    {
     "data": {
      "image/png": "[encoded data removed]",
      "text/plain": [
       "<Figure size 1080x720 with 1 Axes>"
      ]
     },
     "metadata": {},
     "output_type": "display_data"
    }
   ],
   "source": [
    "plt.scatter(x_test, y_test)\n",
    "plt.plot(x_train, model.intercept_ + r_patrat * x_train, 'r')\n",
    "plt.show()"
   ]
  },
  {
   "cell_type": "code",
   "execution_count": 650,
   "metadata": {},
   "outputs": [
    {
     "name": "stdout",
     "output_type": "stream",
     "text": [
      "MAR/ eroarea absoluta medie:  1.4829903061251677\n",
      "MSE/ eroarea patrata medie:  4.366073655139234\n",
      "RMSE/ eroarea radacina-medie-patrat:  2.089515172268255\n",
      "r^2 0.9524674861120723\n"
     ]
    }
   ],
   "source": [
    "print(\"MAR/ eroarea absoluta medie: \", metrics.mean_absolute_error(y_test,y_prezis))\n",
    "print(\"MSE/ eroarea patrata medie: \", metrics.mean_squared_error(y_test,y_prezis))\n",
    "print(\"RMSE/ eroarea radacina-medie-patrat: \", np.sqrt(metrics.mean_squared_error(y_test,y_prezis)))\n",
    "\n",
    "r_patrat=model.score(x_train, y_train)\n",
    "print(\"r^2\", r_patrat)"
   ]
  },
  {
   "cell_type": "markdown",
   "metadata": {},
   "source": [
    "# 2.2 Regresie Liniara Multipla"
   ]
  },
  {
   "cell_type": "markdown",
   "metadata": {},
   "source": [
    "Dorim sa prezicem  Heating Load in functie de Surface Area, Wall Area, Roof Area si Overall Height"
   ]
  },
  {
   "cell_type": "markdown",
   "metadata": {},
   "source": [
    "Formula => y = α1*x1+α2*x2+...+αp*xp+ε, unde x este vectorul variabilelor ndependente de dimensiune 1×p. α este vectorul coeficienţilor, de dimensiune p×1. ε(epsilon)  este  o  variabilă,  interpretată  ca  eroare"
   ]
  },
  {
   "cell_type": "code",
   "execution_count": 651,
   "metadata": {},
   "outputs": [
    {
     "name": "stdout",
     "output_type": "stream",
     "text": [
      "     Surface_Area  Wall_Area  Roof_Area  Overall_Height\n",
      "0           514.5      294.0     110.25             7.0\n",
      "1           514.5      294.0     110.25             7.0\n",
      "2           514.5      294.0     110.25             7.0\n",
      "3           514.5      294.0     110.25             7.0\n",
      "4           563.5      318.5     122.50             7.0\n",
      "..            ...        ...        ...             ...\n",
      "763         784.0      343.0     220.50             3.5\n",
      "764         808.5      367.5     220.50             3.5\n",
      "765         808.5      367.5     220.50             3.5\n",
      "766         808.5      367.5     220.50             3.5\n",
      "767         808.5      367.5     220.50             3.5\n",
      "\n",
      "[768 rows x 4 columns] 0      15.55\n",
      "1      15.55\n",
      "2      15.55\n",
      "3      15.55\n",
      "4      20.84\n",
      "       ...  \n",
      "763    17.88\n",
      "764    16.54\n",
      "765    16.44\n",
      "766    16.48\n",
      "767    16.64\n",
      "Name: Heating_Load, Length: 768, dtype: float64\n"
     ]
    }
   ],
   "source": [
    "coloane_x=['Surface_Area', 'Wall_Area', 'Roof_Area', 'Overall_Height']\n",
    "x=data[coloane_x]\n",
    "y=data['Heating_Load']\n",
    "\n",
    "print(x,y)"
   ]
  },
  {
   "cell_type": "code",
   "execution_count": 652,
   "metadata": {},
   "outputs": [
    {
     "data": {
      "image/png": "[encoded data removed]",
      "text/plain": [
       "<Figure size 720x180 with 4 Axes>"
      ]
     },
     "metadata": {},
     "output_type": "display_data"
    }
   ],
   "source": [
    "sns.pairplot(data, x_vars=['Surface_Area', 'Wall_Area', 'Roof_Area', 'Overall_Height'], y_vars='Heating_Load', kind='scatter')\n",
    "plt.show()"
   ]
  },
  {
   "cell_type": "code",
   "execution_count": 653,
   "metadata": {},
   "outputs": [
    {
     "name": "stdout",
     "output_type": "stream",
     "text": [
      "     Surface_Area  Wall_Area  Roof_Area  Overall_Height\n",
      "140         808.5      367.5     220.50             3.5\n",
      "358         661.5      416.5     122.50             7.0\n",
      "143         808.5      367.5     220.50             3.5\n",
      "674         514.5      294.0     110.25             7.0\n",
      "121         686.0      245.0     220.50             3.5\n",
      "..            ...        ...        ...             ...\n",
      "73          686.0      245.0     220.50             3.5\n",
      "400         637.0      343.0     147.00             7.0\n",
      "118         661.5      416.5     122.50             7.0\n",
      "701         710.5      269.5     220.50             3.5\n",
      "206         612.5      318.5     147.00             7.0\n",
      "\n",
      "[614 rows x 4 columns]      Surface_Area  Wall_Area  Roof_Area  Overall_Height\n",
      "567         759.5      318.5     220.50             3.5\n",
      "123         686.0      245.0     220.50             3.5\n",
      "615         759.5      318.5     220.50             3.5\n",
      "492         612.5      318.5     147.00             7.0\n",
      "288         514.5      294.0     110.25             7.0\n",
      "..            ...        ...        ...             ...\n",
      "432         514.5      294.0     110.25             7.0\n",
      "480         514.5      294.0     110.25             7.0\n",
      "7           563.5      318.5     122.50             7.0\n",
      "564         759.5      318.5     220.50             3.5\n",
      "40          784.0      343.0     220.50             3.5\n",
      "\n",
      "[154 rows x 4 columns] 140    12.88\n",
      "358    36.86\n",
      "143    13.04\n",
      "674    32.21\n",
      "121    10.46\n",
      "       ...  \n",
      "73     10.43\n",
      "400    39.04\n",
      "118    33.12\n",
      "701    14.70\n",
      "206    23.59\n",
      "Name: Heating_Load, Length: 614, dtype: float64 567    15.23\n",
      "123    10.45\n",
      "615    15.30\n",
      "492    25.70\n",
      "288    28.15\n",
      "       ...  \n",
      "432    28.70\n",
      "480    28.69\n",
      "7      19.68\n",
      "564    15.23\n",
      "40     10.85\n",
      "Name: Heating_Load, Length: 154, dtype: float64\n"
     ]
    }
   ],
   "source": [
    "x_train, x_test, y_train, y_test =train_test_split(x,y,test_size=0.2, random_state=5)\n",
    "print(x_train, x_test, y_train, y_test)"
   ]
  },
  {
   "cell_type": "code",
   "execution_count": 654,
   "metadata": {},
   "outputs": [
    {
     "data": {
      "text/html": [
       "<div>\n",
       "<style scoped>\n",
       "    .dataframe tbody tr th:only-of-type {\n",
       "        vertical-align: middle;\n",
       "    }\n",
       "\n",
       "    .dataframe tbody tr th {\n",
       "        vertical-align: top;\n",
       "    }\n",
       "\n",
       "    .dataframe thead th {\n",
       "        text-align: right;\n",
       "    }\n",
       "</style>\n",
       "<table border=\"1\" class=\"dataframe\">\n",
       "  <thead>\n",
       "    <tr style=\"text-align: right;\">\n",
       "      <th></th>\n",
       "      <th>Coefficient</th>\n",
       "    </tr>\n",
       "  </thead>\n",
       "  <tbody>\n",
       "    <tr>\n",
       "      <th>Surface_Area</th>\n",
       "      <td>0.016364</td>\n",
       "    </tr>\n",
       "    <tr>\n",
       "      <th>Wall_Area</th>\n",
       "      <td>0.036599</td>\n",
       "    </tr>\n",
       "    <tr>\n",
       "      <th>Roof_Area</th>\n",
       "      <td>-0.010117</td>\n",
       "    </tr>\n",
       "    <tr>\n",
       "      <th>Overall_Height</th>\n",
       "      <td>5.337499</td>\n",
       "    </tr>\n",
       "  </tbody>\n",
       "</table>\n",
       "</div>"
      ],
      "text/plain": [
       "                Coefficient\n",
       "Surface_Area       0.016364\n",
       "Wall_Area          0.036599\n",
       "Roof_Area         -0.010117\n",
       "Overall_Height     5.337499"
      ]
     },
     "execution_count": 654,
     "metadata": {},
     "output_type": "execute_result"
    }
   ],
   "source": [
    "model=LinearRegression().fit(x_train, y_train)\n",
    "coeficienti_df=pd.DataFrame(model.coef_, x.columns, columns=['Coefficient'])\n",
    "coeficienti_df"
   ]
  },
  {
   "cell_type": "code",
   "execution_count": 655,
   "metadata": {},
   "outputs": [
    {
     "data": {
      "text/html": [
       "<div>\n",
       "<style scoped>\n",
       "    .dataframe tbody tr th:only-of-type {\n",
       "        vertical-align: middle;\n",
       "    }\n",
       "\n",
       "    .dataframe tbody tr th {\n",
       "        vertical-align: top;\n",
       "    }\n",
       "\n",
       "    .dataframe thead th {\n",
       "        text-align: right;\n",
       "    }\n",
       "</style>\n",
       "<table border=\"1\" class=\"dataframe\">\n",
       "  <thead>\n",
       "    <tr style=\"text-align: right;\">\n",
       "      <th></th>\n",
       "      <th>Actual:</th>\n",
       "      <th>Prezis</th>\n",
       "    </tr>\n",
       "  </thead>\n",
       "  <tbody>\n",
       "    <tr>\n",
       "      <th>567</th>\n",
       "      <td>15.23</td>\n",
       "      <td>13.951488</td>\n",
       "    </tr>\n",
       "    <tr>\n",
       "      <th>123</th>\n",
       "      <td>10.45</td>\n",
       "      <td>10.058698</td>\n",
       "    </tr>\n",
       "    <tr>\n",
       "      <th>615</th>\n",
       "      <td>15.30</td>\n",
       "      <td>13.951488</td>\n",
       "    </tr>\n",
       "    <tr>\n",
       "      <th>492</th>\n",
       "      <td>25.70</td>\n",
       "      <td>30.970830</td>\n",
       "    </tr>\n",
       "    <tr>\n",
       "      <th>288</th>\n",
       "      <td>28.15</td>\n",
       "      <td>28.842282</td>\n",
       "    </tr>\n",
       "    <tr>\n",
       "      <th>...</th>\n",
       "      <td>...</td>\n",
       "      <td>...</td>\n",
       "    </tr>\n",
       "    <tr>\n",
       "      <th>432</th>\n",
       "      <td>28.70</td>\n",
       "      <td>28.842282</td>\n",
       "    </tr>\n",
       "    <tr>\n",
       "      <th>480</th>\n",
       "      <td>28.69</td>\n",
       "      <td>28.842282</td>\n",
       "    </tr>\n",
       "    <tr>\n",
       "      <th>7</th>\n",
       "      <td>19.68</td>\n",
       "      <td>30.416862</td>\n",
       "    </tr>\n",
       "    <tr>\n",
       "      <th>564</th>\n",
       "      <td>15.23</td>\n",
       "      <td>13.951488</td>\n",
       "    </tr>\n",
       "    <tr>\n",
       "      <th>40</th>\n",
       "      <td>10.85</td>\n",
       "      <td>15.249084</td>\n",
       "    </tr>\n",
       "  </tbody>\n",
       "</table>\n",
       "<p>154 rows × 2 columns</p>\n",
       "</div>"
      ],
      "text/plain": [
       "     Actual:      Prezis\n",
       "567     15.23  13.951488\n",
       "123     10.45  10.058698\n",
       "615     15.30  13.951488\n",
       "492     25.70  30.970830\n",
       "288     28.15  28.842282\n",
       "..        ...        ...\n",
       "432     28.70  28.842282\n",
       "480     28.69  28.842282\n",
       "7       19.68  30.416862\n",
       "564     15.23  13.951488\n",
       "40      10.85  15.249084\n",
       "\n",
       "[154 rows x 2 columns]"
      ]
     },
     "execution_count": 655,
     "metadata": {},
     "output_type": "execute_result"
    }
   ],
   "source": [
    "y_prezis=model.predict(x_test)\n",
    "df=pd.DataFrame({\"Actual: \":y_test,'Prezis':y_prezis})\n",
    "df"
   ]
  },
  {
   "cell_type": "code",
   "execution_count": 656,
   "metadata": {},
   "outputs": [
    {
     "data": {
      "text/plain": [
       "<AxesSubplot:>"
      ]
     },
     "execution_count": 656,
     "metadata": {},
     "output_type": "execute_result"
    },
    {
     "data": {
      "image/png": "[encoded data removed]",
      "text/plain": [
       "<Figure size 1080x720 with 1 Axes>"
      ]
     },
     "metadata": {},
     "output_type": "display_data"
    }
   ],
   "source": [
    "df.head(10).plot(kind='bar')\n"
   ]
  },
  {
   "cell_type": "code",
   "execution_count": 657,
   "metadata": {},
   "outputs": [
    {
     "name": "stdout",
     "output_type": "stream",
     "text": [
      "MAR/ eroarea absoluta medie:  3.265916983884308\n",
      "MSE/ eroarea patrata medie:  18.64086153330091\n",
      "RMSE/ eroarea radacina-medie-patrat:  4.317506402230449\n",
      "r^2 0.8439973104135423\n"
     ]
    }
   ],
   "source": [
    "print(\"MAR/ eroarea absoluta medie: \", metrics.mean_absolute_error(y_test,y_prezis))\n",
    "print(\"MSE/ eroarea patrata medie: \", metrics.mean_squared_error(y_test,y_prezis))\n",
    "print(\"RMSE/ eroarea radacina-medie-patrat: \", np.sqrt(metrics.mean_squared_error(y_test,y_prezis)))\n",
    "\n",
    "r_patrat=model.score(x_train, y_train)\n",
    "print(\"r^2\", r_patrat)"
   ]
  },
  {
   "cell_type": "markdown",
   "metadata": {},
   "source": [
    "Dorim sa prezicem Cooling Load in functie de Surface Area, Wall Area, Roof Area si Overall Height"
   ]
  },
  {
   "cell_type": "code",
   "execution_count": 658,
   "metadata": {},
   "outputs": [
    {
     "name": "stdout",
     "output_type": "stream",
     "text": [
      "     Surface_Area  Wall_Area  Roof_Area  Overall_Height\n",
      "0           514.5      294.0     110.25             7.0\n",
      "1           514.5      294.0     110.25             7.0\n",
      "2           514.5      294.0     110.25             7.0\n",
      "3           514.5      294.0     110.25             7.0\n",
      "4           563.5      318.5     122.50             7.0\n",
      "..            ...        ...        ...             ...\n",
      "763         784.0      343.0     220.50             3.5\n",
      "764         808.5      367.5     220.50             3.5\n",
      "765         808.5      367.5     220.50             3.5\n",
      "766         808.5      367.5     220.50             3.5\n",
      "767         808.5      367.5     220.50             3.5\n",
      "\n",
      "[768 rows x 4 columns] 0      21.33\n",
      "1      21.33\n",
      "2      21.33\n",
      "3      21.33\n",
      "4      28.28\n",
      "       ...  \n",
      "763    21.40\n",
      "764    16.88\n",
      "765    17.11\n",
      "766    16.61\n",
      "767    16.03\n",
      "Name: Cooling_Load, Length: 768, dtype: float64\n"
     ]
    }
   ],
   "source": [
    "coloane_x=['Surface_Area', 'Wall_Area', 'Roof_Area', 'Overall_Height']\n",
    "x=data[coloane_x]\n",
    "y=data['Cooling_Load']\n",
    "\n",
    "print(x,y)"
   ]
  },
  {
   "cell_type": "code",
   "execution_count": 659,
   "metadata": {},
   "outputs": [
    {
     "data": {
      "image/png": "[encoded data removed]",
      "text/plain": [
       "<Figure size 720x180 with 4 Axes>"
      ]
     },
     "metadata": {},
     "output_type": "display_data"
    }
   ],
   "source": [
    "sns.pairplot(data, x_vars=['Surface_Area', 'Wall_Area', 'Roof_Area', 'Overall_Height'], y_vars='Cooling_Load', kind='scatter')\n",
    "plt.show()"
   ]
  },
  {
   "cell_type": "code",
   "execution_count": 660,
   "metadata": {},
   "outputs": [
    {
     "name": "stdout",
     "output_type": "stream",
     "text": [
      "     Surface_Area  Wall_Area  Roof_Area  Overall_Height\n",
      "140         808.5      367.5     220.50             3.5\n",
      "358         661.5      416.5     122.50             7.0\n",
      "143         808.5      367.5     220.50             3.5\n",
      "674         514.5      294.0     110.25             7.0\n",
      "121         686.0      245.0     220.50             3.5\n",
      "..            ...        ...        ...             ...\n",
      "73          686.0      245.0     220.50             3.5\n",
      "400         637.0      343.0     147.00             7.0\n",
      "118         661.5      416.5     122.50             7.0\n",
      "701         710.5      269.5     220.50             3.5\n",
      "206         612.5      318.5     147.00             7.0\n",
      "\n",
      "[614 rows x 4 columns]      Surface_Area  Wall_Area  Roof_Area  Overall_Height\n",
      "567         759.5      318.5     220.50             3.5\n",
      "123         686.0      245.0     220.50             3.5\n",
      "615         759.5      318.5     220.50             3.5\n",
      "492         612.5      318.5     147.00             7.0\n",
      "288         514.5      294.0     110.25             7.0\n",
      "..            ...        ...        ...             ...\n",
      "432         514.5      294.0     110.25             7.0\n",
      "480         514.5      294.0     110.25             7.0\n",
      "7           563.5      318.5     122.50             7.0\n",
      "564         759.5      318.5     220.50             3.5\n",
      "40          784.0      343.0     220.50             3.5\n",
      "\n",
      "[154 rows x 4 columns] 140    14.37\n",
      "358    37.28\n",
      "143    14.24\n",
      "674    33.95\n",
      "121    13.72\n",
      "       ...  \n",
      "73     13.71\n",
      "400    45.13\n",
      "118    34.17\n",
      "701    17.20\n",
      "206    27.57\n",
      "Name: Cooling_Load, Length: 614, dtype: float64 567    17.95\n",
      "123    13.79\n",
      "615    18.15\n",
      "492    26.53\n",
      "288    29.79\n",
      "       ...  \n",
      "432    29.61\n",
      "480    29.53\n",
      "7      29.60\n",
      "564    18.14\n",
      "40     16.78\n",
      "Name: Cooling_Load, Length: 154, dtype: float64\n"
     ]
    }
   ],
   "source": [
    "x_train, x_test, y_train, y_test =train_test_split(x,y,test_size=0.2, random_state=5)\n",
    "print(x_train, x_test, y_train, y_test)"
   ]
  },
  {
   "cell_type": "code",
   "execution_count": 661,
   "metadata": {},
   "outputs": [
    {
     "data": {
      "text/html": [
       "<div>\n",
       "<style scoped>\n",
       "    .dataframe tbody tr th:only-of-type {\n",
       "        vertical-align: middle;\n",
       "    }\n",
       "\n",
       "    .dataframe tbody tr th {\n",
       "        vertical-align: top;\n",
       "    }\n",
       "\n",
       "    .dataframe thead th {\n",
       "        text-align: right;\n",
       "    }\n",
       "</style>\n",
       "<table border=\"1\" class=\"dataframe\">\n",
       "  <thead>\n",
       "    <tr style=\"text-align: right;\">\n",
       "      <th></th>\n",
       "      <th>Coefficient</th>\n",
       "    </tr>\n",
       "  </thead>\n",
       "  <tbody>\n",
       "    <tr>\n",
       "      <th>Surface_Area</th>\n",
       "      <td>0.022464</td>\n",
       "    </tr>\n",
       "    <tr>\n",
       "      <th>Wall_Area</th>\n",
       "      <td>0.020301</td>\n",
       "    </tr>\n",
       "    <tr>\n",
       "      <th>Roof_Area</th>\n",
       "      <td>0.001082</td>\n",
       "    </tr>\n",
       "    <tr>\n",
       "      <th>Overall_Height</th>\n",
       "      <td>5.749398</td>\n",
       "    </tr>\n",
       "  </tbody>\n",
       "</table>\n",
       "</div>"
      ],
      "text/plain": [
       "                Coefficient\n",
       "Surface_Area       0.022464\n",
       "Wall_Area          0.020301\n",
       "Roof_Area          0.001082\n",
       "Overall_Height     5.749398"
      ]
     },
     "execution_count": 661,
     "metadata": {},
     "output_type": "execute_result"
    }
   ],
   "source": [
    "model=LinearRegression().fit(x_train, y_train)\n",
    "coeficienti_df=pd.DataFrame(model.coef_, x.columns, columns=['Coefficient'])\n",
    "coeficienti_df"
   ]
  },
  {
   "cell_type": "code",
   "execution_count": 662,
   "metadata": {},
   "outputs": [
    {
     "data": {
      "text/html": [
       "<div>\n",
       "<style scoped>\n",
       "    .dataframe tbody tr th:only-of-type {\n",
       "        vertical-align: middle;\n",
       "    }\n",
       "\n",
       "    .dataframe tbody tr th {\n",
       "        vertical-align: top;\n",
       "    }\n",
       "\n",
       "    .dataframe thead th {\n",
       "        text-align: right;\n",
       "    }\n",
       "</style>\n",
       "<table border=\"1\" class=\"dataframe\">\n",
       "  <thead>\n",
       "    <tr style=\"text-align: right;\">\n",
       "      <th></th>\n",
       "      <th>Actual:</th>\n",
       "      <th>Prezis</th>\n",
       "    </tr>\n",
       "  </thead>\n",
       "  <tbody>\n",
       "    <tr>\n",
       "      <th>567</th>\n",
       "      <td>17.95</td>\n",
       "      <td>16.549859</td>\n",
       "    </tr>\n",
       "    <tr>\n",
       "      <th>123</th>\n",
       "      <td>13.79</td>\n",
       "      <td>13.406662</td>\n",
       "    </tr>\n",
       "    <tr>\n",
       "      <th>615</th>\n",
       "      <td>18.15</td>\n",
       "      <td>16.549859</td>\n",
       "    </tr>\n",
       "    <tr>\n",
       "      <th>492</th>\n",
       "      <td>26.53</td>\n",
       "      <td>33.291024</td>\n",
       "    </tr>\n",
       "    <tr>\n",
       "      <th>288</th>\n",
       "      <td>29.79</td>\n",
       "      <td>30.552428</td>\n",
       "    </tr>\n",
       "    <tr>\n",
       "      <th>...</th>\n",
       "      <td>...</td>\n",
       "      <td>...</td>\n",
       "    </tr>\n",
       "    <tr>\n",
       "      <th>432</th>\n",
       "      <td>29.61</td>\n",
       "      <td>30.552428</td>\n",
       "    </tr>\n",
       "    <tr>\n",
       "      <th>480</th>\n",
       "      <td>29.53</td>\n",
       "      <td>30.552428</td>\n",
       "    </tr>\n",
       "    <tr>\n",
       "      <th>7</th>\n",
       "      <td>29.60</td>\n",
       "      <td>32.163782</td>\n",
       "    </tr>\n",
       "    <tr>\n",
       "      <th>564</th>\n",
       "      <td>18.14</td>\n",
       "      <td>16.549859</td>\n",
       "    </tr>\n",
       "    <tr>\n",
       "      <th>40</th>\n",
       "      <td>16.78</td>\n",
       "      <td>17.597591</td>\n",
       "    </tr>\n",
       "  </tbody>\n",
       "</table>\n",
       "<p>154 rows × 2 columns</p>\n",
       "</div>"
      ],
      "text/plain": [
       "     Actual:      Prezis\n",
       "567     17.95  16.549859\n",
       "123     13.79  13.406662\n",
       "615     18.15  16.549859\n",
       "492     26.53  33.291024\n",
       "288     29.79  30.552428\n",
       "..        ...        ...\n",
       "432     29.61  30.552428\n",
       "480     29.53  30.552428\n",
       "7       29.60  32.163782\n",
       "564     18.14  16.549859\n",
       "40      16.78  17.597591\n",
       "\n",
       "[154 rows x 2 columns]"
      ]
     },
     "execution_count": 662,
     "metadata": {},
     "output_type": "execute_result"
    }
   ],
   "source": [
    "y_prezis=model.predict(x_test)\n",
    "df=pd.DataFrame({\"Actual: \":y_test,'Prezis':y_prezis})\n",
    "df"
   ]
  },
  {
   "cell_type": "code",
   "execution_count": 663,
   "metadata": {},
   "outputs": [
    {
     "data": {
      "text/plain": [
       "<AxesSubplot:>"
      ]
     },
     "execution_count": 663,
     "metadata": {},
     "output_type": "execute_result"
    },
    {
     "data": {
      "image/png": "[encoded data removed]",
      "text/plain": [
       "<Figure size 1080x720 with 1 Axes>"
      ]
     },
     "metadata": {},
     "output_type": "display_data"
    }
   ],
   "source": [
    "df.head(10).plot(kind='bar')"
   ]
  },
  {
   "cell_type": "code",
   "execution_count": 664,
   "metadata": {},
   "outputs": [
    {
     "name": "stdout",
     "output_type": "stream",
     "text": [
      "MAR: 2.955689372628926\n",
      "MSE:  15.228573265911734\n",
      "RMSE:  3.902380461450643\n",
      "r^2 0.8418390447787307\n"
     ]
    }
   ],
   "source": [
    "print(\"MAR:\", metrics.mean_absolute_error(y_test,y_prezis))\n",
    "print(\"MSE: \", metrics.mean_squared_error(y_test,y_prezis))\n",
    "print(\"RMSE: \", np.sqrt(metrics.mean_squared_error(y_test,y_prezis)))\n",
    "r_patrat=model.score(x_train, y_train)\n",
    "print(\"r^2\", r_patrat)"
   ]
  },
  {
   "cell_type": "markdown",
   "metadata": {},
   "source": [
    "Dorim sa prezicem Overall Height in functie de Heating Load si Cooling Load"
   ]
  },
  {
   "cell_type": "code",
   "execution_count": 665,
   "metadata": {},
   "outputs": [
    {
     "name": "stdout",
     "output_type": "stream",
     "text": [
      "     Heating_Load  Cooling_Load\n",
      "0           15.55         21.33\n",
      "1           15.55         21.33\n",
      "2           15.55         21.33\n",
      "3           15.55         21.33\n",
      "4           20.84         28.28\n",
      "..            ...           ...\n",
      "763         17.88         21.40\n",
      "764         16.54         16.88\n",
      "765         16.44         17.11\n",
      "766         16.48         16.61\n",
      "767         16.64         16.03\n",
      "\n",
      "[768 rows x 2 columns] 0      7.0\n",
      "1      7.0\n",
      "2      7.0\n",
      "3      7.0\n",
      "4      7.0\n",
      "      ... \n",
      "763    3.5\n",
      "764    3.5\n",
      "765    3.5\n",
      "766    3.5\n",
      "767    3.5\n",
      "Name: Overall_Height, Length: 768, dtype: float64\n"
     ]
    }
   ],
   "source": [
    "coloane_x=['Heating_Load','Cooling_Load']\n",
    "x=data[coloane_x]\n",
    "y=data['Overall_Height']\n",
    "\n",
    "print(x,y)"
   ]
  },
  {
   "cell_type": "code",
   "execution_count": 666,
   "metadata": {},
   "outputs": [
    {
     "data": {
      "image/png": "[encoded data removed]",
      "text/plain": [
       "<Figure size 360x180 with 2 Axes>"
      ]
     },
     "metadata": {},
     "output_type": "display_data"
    }
   ],
   "source": [
    "sns.pairplot(data, x_vars=['Heating_Load','Cooling_Load'], y_vars='Overall_Height', kind='scatter')\n",
    "plt.show()"
   ]
  },
  {
   "cell_type": "code",
   "execution_count": 667,
   "metadata": {},
   "outputs": [
    {
     "name": "stdout",
     "output_type": "stream",
     "text": [
      "     Heating_Load  Cooling_Load\n",
      "140         12.88         14.37\n",
      "358         36.86         37.28\n",
      "143         13.04         14.24\n",
      "674         32.21         33.95\n",
      "121         10.46         13.72\n",
      "..            ...           ...\n",
      "73          10.43         13.71\n",
      "400         39.04         45.13\n",
      "118         33.12         34.17\n",
      "701         14.70         17.20\n",
      "206         23.59         27.57\n",
      "\n",
      "[614 rows x 2 columns]      Heating_Load  Cooling_Load\n",
      "567         15.23         17.95\n",
      "123         10.45         13.79\n",
      "615         15.30         18.15\n",
      "492         25.70         26.53\n",
      "288         28.15         29.79\n",
      "..            ...           ...\n",
      "432         28.70         29.61\n",
      "480         28.69         29.53\n",
      "7           19.68         29.60\n",
      "564         15.23         18.14\n",
      "40          10.85         16.78\n",
      "\n",
      "[154 rows x 2 columns] 140    3.5\n",
      "358    7.0\n",
      "143    3.5\n",
      "674    7.0\n",
      "121    3.5\n",
      "      ... \n",
      "73     3.5\n",
      "400    7.0\n",
      "118    7.0\n",
      "701    3.5\n",
      "206    7.0\n",
      "Name: Overall_Height, Length: 614, dtype: float64 567    3.5\n",
      "123    3.5\n",
      "615    3.5\n",
      "492    7.0\n",
      "288    7.0\n",
      "      ... \n",
      "432    7.0\n",
      "480    7.0\n",
      "7      7.0\n",
      "564    3.5\n",
      "40     3.5\n",
      "Name: Overall_Height, Length: 154, dtype: float64\n"
     ]
    }
   ],
   "source": [
    "x_train, x_test, y_train, y_test =train_test_split(x,y,test_size=0.2, random_state=5)\n",
    "print(x_train, x_test, y_train, y_test)"
   ]
  },
  {
   "cell_type": "code",
   "execution_count": 668,
   "metadata": {},
   "outputs": [
    {
     "data": {
      "text/html": [
       "<div>\n",
       "<style scoped>\n",
       "    .dataframe tbody tr th:only-of-type {\n",
       "        vertical-align: middle;\n",
       "    }\n",
       "\n",
       "    .dataframe tbody tr th {\n",
       "        vertical-align: top;\n",
       "    }\n",
       "\n",
       "    .dataframe thead th {\n",
       "        text-align: right;\n",
       "    }\n",
       "</style>\n",
       "<table border=\"1\" class=\"dataframe\">\n",
       "  <thead>\n",
       "    <tr style=\"text-align: right;\">\n",
       "      <th></th>\n",
       "      <th>Coefficient</th>\n",
       "    </tr>\n",
       "  </thead>\n",
       "  <tbody>\n",
       "    <tr>\n",
       "      <th>Heating_Load</th>\n",
       "      <td>0.057878</td>\n",
       "    </tr>\n",
       "    <tr>\n",
       "      <th>Cooling_Load</th>\n",
       "      <td>0.104569</td>\n",
       "    </tr>\n",
       "  </tbody>\n",
       "</table>\n",
       "</div>"
      ],
      "text/plain": [
       "              Coefficient\n",
       "Heating_Load     0.057878\n",
       "Cooling_Load     0.104569"
      ]
     },
     "execution_count": 668,
     "metadata": {},
     "output_type": "execute_result"
    }
   ],
   "source": [
    "model=LinearRegression().fit(x_train, y_train)\n",
    "coeficienti_df=pd.DataFrame(model.coef_, x.columns, columns=['Coefficient'])\n",
    "coeficienti_df"
   ]
  },
  {
   "cell_type": "code",
   "execution_count": 669,
   "metadata": {},
   "outputs": [
    {
     "data": {
      "text/html": [
       "<div>\n",
       "<style scoped>\n",
       "    .dataframe tbody tr th:only-of-type {\n",
       "        vertical-align: middle;\n",
       "    }\n",
       "\n",
       "    .dataframe tbody tr th {\n",
       "        vertical-align: top;\n",
       "    }\n",
       "\n",
       "    .dataframe thead th {\n",
       "        text-align: right;\n",
       "    }\n",
       "</style>\n",
       "<table border=\"1\" class=\"dataframe\">\n",
       "  <thead>\n",
       "    <tr style=\"text-align: right;\">\n",
       "      <th></th>\n",
       "      <th>Actual:</th>\n",
       "      <th>Prezis</th>\n",
       "    </tr>\n",
       "  </thead>\n",
       "  <tbody>\n",
       "    <tr>\n",
       "      <th>567</th>\n",
       "      <td>3.5</td>\n",
       "      <td>4.141562</td>\n",
       "    </tr>\n",
       "    <tr>\n",
       "      <th>123</th>\n",
       "      <td>3.5</td>\n",
       "      <td>3.429896</td>\n",
       "    </tr>\n",
       "    <tr>\n",
       "      <th>615</th>\n",
       "      <td>3.5</td>\n",
       "      <td>4.166527</td>\n",
       "    </tr>\n",
       "    <tr>\n",
       "      <th>492</th>\n",
       "      <td>7.0</td>\n",
       "      <td>5.644752</td>\n",
       "    </tr>\n",
       "    <tr>\n",
       "      <th>288</th>\n",
       "      <td>7.0</td>\n",
       "      <td>6.127449</td>\n",
       "    </tr>\n",
       "    <tr>\n",
       "      <th>...</th>\n",
       "      <td>...</td>\n",
       "      <td>...</td>\n",
       "    </tr>\n",
       "    <tr>\n",
       "      <th>432</th>\n",
       "      <td>7.0</td>\n",
       "      <td>6.140460</td>\n",
       "    </tr>\n",
       "    <tr>\n",
       "      <th>480</th>\n",
       "      <td>7.0</td>\n",
       "      <td>6.131516</td>\n",
       "    </tr>\n",
       "    <tr>\n",
       "      <th>7</th>\n",
       "      <td>7.0</td>\n",
       "      <td>5.617352</td>\n",
       "    </tr>\n",
       "    <tr>\n",
       "      <th>564</th>\n",
       "      <td>3.5</td>\n",
       "      <td>4.161430</td>\n",
       "    </tr>\n",
       "    <tr>\n",
       "      <th>40</th>\n",
       "      <td>3.5</td>\n",
       "      <td>3.765709</td>\n",
       "    </tr>\n",
       "  </tbody>\n",
       "</table>\n",
       "<p>154 rows × 2 columns</p>\n",
       "</div>"
      ],
      "text/plain": [
       "     Actual:     Prezis\n",
       "567       3.5  4.141562\n",
       "123       3.5  3.429896\n",
       "615       3.5  4.166527\n",
       "492       7.0  5.644752\n",
       "288       7.0  6.127449\n",
       "..        ...       ...\n",
       "432       7.0  6.140460\n",
       "480       7.0  6.131516\n",
       "7         7.0  5.617352\n",
       "564       3.5  4.161430\n",
       "40        3.5  3.765709\n",
       "\n",
       "[154 rows x 2 columns]"
      ]
     },
     "execution_count": 669,
     "metadata": {},
     "output_type": "execute_result"
    }
   ],
   "source": [
    "y_prezis=model.predict(x_test)\n",
    "df=pd.DataFrame({\"Actual: \":y_test,'Prezis':y_prezis})\n",
    "df"
   ]
  },
  {
   "cell_type": "code",
   "execution_count": 670,
   "metadata": {},
   "outputs": [
    {
     "data": {
      "text/plain": [
       "<AxesSubplot:>"
      ]
     },
     "execution_count": 670,
     "metadata": {},
     "output_type": "execute_result"
    },
    {
     "data": {
      "image/png": "[encoded data removed]",
      "text/plain": [
       "<Figure size 1080x720 with 1 Axes>"
      ]
     },
     "metadata": {},
     "output_type": "display_data"
    }
   ],
   "source": [
    "df.head(10).plot(kind='bar')\n"
   ]
  },
  {
   "cell_type": "code",
   "execution_count": 671,
   "metadata": {},
   "outputs": [
    {
     "name": "stdout",
     "output_type": "stream",
     "text": [
      "MAR/ eroarea absoluta medie:  0.6218321329991052\n",
      "MSE/ eroarea patrata medie:  0.6215351388639067\n",
      "RMSE/ eroarea radacina-medie-patrat:  0.7883749988830865\n",
      "r^2 0.8098683931941875\n"
     ]
    }
   ],
   "source": [
    "print(\"MAR/ eroarea absoluta medie: \", metrics.mean_absolute_error(y_test,y_prezis))\n",
    "print(\"MSE/ eroarea patrata medie: \", metrics.mean_squared_error(y_test,y_prezis))\n",
    "print(\"RMSE/ eroarea radacina-medie-patrat: \", np.sqrt(metrics.mean_squared_error(y_test,y_prezis)))\n",
    "\n",
    "r_patrat=model.score(x_train, y_train)\n",
    "print(\"r^2\", r_patrat)"
   ]
  },
  {
   "cell_type": "markdown",
   "metadata": {},
   "source": [
    "# 3.Clasificare"
   ]
  },
  {
   "cell_type": "markdown",
   "metadata": {},
   "source": [
    "# 3.1 Prezicerea Heating Load"
   ]
  },
  {
   "cell_type": "markdown",
   "metadata": {},
   "source": [
    "Aici vrem sa prezicem Heating_Load-ul, folosindu-ne de restul datelor din dataframe \n",
    "Grupam setul de date intr-un set de test (30% din total) si restul de 70% intr-un set de antrenament. Random state este folosit pentru a avea aceleasi valori atunci cand rulam programul din nou"
   ]
  },
  {
   "cell_type": "code",
   "execution_count": 672,
   "metadata": {},
   "outputs": [],
   "source": [
    "x=data.drop(['Heating_Load'], axis =1)\n",
    "y=data['Heating_Load']\n",
    "\n",
    "x_train,x_test,y_train,y_test = train_test_split(x,y,test_size=0.3,random_state=100)\n"
   ]
  },
  {
   "cell_type": "markdown",
   "metadata": {},
   "source": [
    "Ne vom folosi de 10 vecini si vom antrena setul de date.\n",
    "Am convertit datele din float in int pentru a evita eroarea ” Unknown label type: 'continuous'”, deoarece fit() accepta doar valori de tip integer\n",
    "\n",
    "La final, comparam scorul pe setul de antrenament cu scorul pe setul de test "
   ]
  },
  {
   "cell_type": "code",
   "execution_count": 673,
   "metadata": {},
   "outputs": [
    {
     "name": "stdout",
     "output_type": "stream",
     "text": [
      "Scorul pe setul de antrenament: 0.5791433891992551\n",
      "Scorul pe setul de test: 0.4805194805194805\n"
     ]
    }
   ],
   "source": [
    "model = KNeighborsClassifier(n_neighbors=10)\n",
    "model.fit(x_train, y_train.astype('int'))\n",
    "\n",
    "print(\"Scorul pe setul de antrenament:\" ,model.score(x_train, y_train.astype('int')) )\n",
    " \n",
    "print(\"Scorul pe setul de test:\",model.score(x_test, y_test.astype('int')) )"
   ]
  },
  {
   "cell_type": "code",
   "execution_count": 674,
   "metadata": {},
   "outputs": [
    {
     "data": {
      "text/plain": [
       "[0.48917748917748916,\n",
       " 0.4588744588744589,\n",
       " 0.4805194805194805,\n",
       " 0.47619047619047616,\n",
       " 0.42857142857142855,\n",
       " 0.4025974025974026,\n",
       " 0.45021645021645024,\n",
       " 0.4199134199134199,\n",
       " 0.4199134199134199,\n",
       " 0.4329004329004329,\n",
       " 0.4199134199134199,\n",
       " 0.4155844155844156,\n",
       " 0.4329004329004329,\n",
       " 0.4199134199134199,\n",
       " 0.4199134199134199,\n",
       " 0.4025974025974026,\n",
       " 0.4069264069264069,\n",
       " 0.3939393939393939,\n",
       " 0.38095238095238093,\n",
       " 0.38961038961038963,\n",
       " 0.38095238095238093,\n",
       " 0.36796536796536794,\n",
       " 0.36796536796536794,\n",
       " 0.3463203463203463,\n",
       " 0.341991341991342,\n",
       " 0.3333333333333333,\n",
       " 0.31601731601731603,\n",
       " 0.31601731601731603,\n",
       " 0.30735930735930733]"
      ]
     },
     "execution_count": 674,
     "metadata": {},
     "output_type": "execute_result"
    }
   ],
   "source": [
    "k_interval = range(1,30)\n",
    "\n",
    "scoruri = []\n",
    "\n",
    "for k in k_interval:\n",
    "    knn = KNeighborsClassifier(n_neighbors=k)  \n",
    "    knn.fit(x_train, y_train.astype('int'))              \n",
    "    y_prezis = knn.predict(x_test.astype('int'))\n",
    "    scoruri.append(metrics.accuracy_score(y_test.astype('int'), y_prezis.astype('int')))\n",
    "scoruri"
   ]
  },
  {
   "cell_type": "code",
   "execution_count": 675,
   "metadata": {},
   "outputs": [
    {
     "data": {
      "text/plain": [
       "<AxesSubplot:>"
      ]
     },
     "execution_count": 675,
     "metadata": {},
     "output_type": "execute_result"
    },
    {
     "data": {
      "image/png": "[encoded data removed]",
      "text/plain": [
       "<Figure size 1080x720 with 1 Axes>"
      ]
     },
     "metadata": {},
     "output_type": "display_data"
    }
   ],
   "source": [
    "sns.lineplot(x=k_interval, y=scoruri)"
   ]
  },
  {
   "cell_type": "markdown",
   "metadata": {},
   "source": [
    "Cu cat alegem mai multi vecini cu atat va scadea acuratetea"
   ]
  },
  {
   "cell_type": "markdown",
   "metadata": {},
   "source": [
    "# 3.2 Prezicerea Cooling Load"
   ]
  },
  {
   "cell_type": "markdown",
   "metadata": {},
   "source": [
    "Aici vrem sa prezicem Cooling_Load-ul, folosindu-ne de restul datelor din dataframe. Algoritmul este acelasi"
   ]
  },
  {
   "cell_type": "code",
   "execution_count": 676,
   "metadata": {},
   "outputs": [],
   "source": [
    "x=data.drop(['Cooling_Load'], axis =1)\n",
    "y=data['Cooling_Load']\n",
    "\n",
    "x_train,x_test,y_train,y_test = train_test_split(x,y,test_size=0.3,random_state=100)\n"
   ]
  },
  {
   "cell_type": "code",
   "execution_count": 677,
   "metadata": {},
   "outputs": [
    {
     "name": "stdout",
     "output_type": "stream",
     "text": [
      "Scorul pe setul de antrenament: 0.5381750465549349\n",
      "Scorul pe setul de test: 0.36363636363636365\n"
     ]
    }
   ],
   "source": [
    "model = KNeighborsClassifier(n_neighbors=10)\n",
    "model.fit(x_train, y_train.astype('int'))\n",
    "\n",
    "print(\"Scorul pe setul de antrenament:\" ,model.score(x_train, y_train.astype('int')) )\n",
    " \n",
    "print(\"Scorul pe setul de test:\",model.score(x_test, y_test.astype('int')) )"
   ]
  },
  {
   "cell_type": "code",
   "execution_count": 678,
   "metadata": {},
   "outputs": [
    {
     "data": {
      "text/plain": [
       "[0.44155844155844154,\n",
       " 0.42424242424242425,\n",
       " 0.42857142857142855,\n",
       " 0.42857142857142855,\n",
       " 0.37662337662337664,\n",
       " 0.3722943722943723,\n",
       " 0.37662337662337664,\n",
       " 0.3333333333333333,\n",
       " 0.35064935064935066,\n",
       " 0.329004329004329,\n",
       " 0.341991341991342,\n",
       " 0.3333333333333333,\n",
       " 0.3246753246753247,\n",
       " 0.329004329004329,\n",
       " 0.31601731601731603,\n",
       " 0.2943722943722944,\n",
       " 0.31601731601731603,\n",
       " 0.3203463203463203,\n",
       " 0.30735930735930733,\n",
       " 0.30735930735930733,\n",
       " 0.30735930735930733,\n",
       " 0.2813852813852814,\n",
       " 0.2813852813852814,\n",
       " 0.2857142857142857,\n",
       " 0.2857142857142857,\n",
       " 0.2813852813852814,\n",
       " 0.2510822510822511,\n",
       " 0.22510822510822512,\n",
       " 0.22510822510822512]"
      ]
     },
     "execution_count": 678,
     "metadata": {},
     "output_type": "execute_result"
    }
   ],
   "source": [
    "k_interval = range(1,30)\n",
    "\n",
    "scoruri = []\n",
    "\n",
    "for k in k_interval:\n",
    "    knn = KNeighborsClassifier(n_neighbors=k)  #instantiere\n",
    "    knn.fit(x_train, y_train.astype('int'))               #antrenare\n",
    "    y_prezis = knn.predict(x_test.astype('int'))\n",
    "    scoruri.append(metrics.accuracy_score(y_test.astype('int'), y_prezis.astype('int')))\n",
    "scoruri"
   ]
  },
  {
   "cell_type": "code",
   "execution_count": 679,
   "metadata": {},
   "outputs": [
    {
     "data": {
      "text/plain": [
       "<AxesSubplot:>"
      ]
     },
     "execution_count": 679,
     "metadata": {},
     "output_type": "execute_result"
    },
    {
     "data": {
      "image/png": "[encoded data removed]",
      "text/plain": [
       "<Figure size 1080x720 with 1 Axes>"
      ]
     },
     "metadata": {},
     "output_type": "display_data"
    }
   ],
   "source": [
    "sns.lineplot(x=k_interval, y=scoruri)"
   ]
  },
  {
   "cell_type": "markdown",
   "metadata": {},
   "source": [
    "# 4. Clustering - KMeans"
   ]
  },
  {
   "cell_type": "markdown",
   "metadata": {},
   "source": [
    "Clustering este o tehnica de învatare automata nesupervizata care separa sau imparte punctele de date in mai multe clustere sau grupuri "
   ]
  },
  {
   "cell_type": "markdown",
   "metadata": {},
   "source": [
    "Algoritmul K-means este o metoda de determinare a clusterelor "
   ]
  },
  {
   "cell_type": "markdown",
   "metadata": {},
   "source": [
    "Dorim sa aflam numarul de clustere dintre ”Heating_Load” si ”Cooling_Load”"
   ]
  },
  {
   "cell_type": "code",
   "execution_count": 680,
   "metadata": {},
   "outputs": [
    {
     "data": {
      "text/plain": [
       "<matplotlib.collections.PathCollection at 0x16ddf28e100>"
      ]
     },
     "execution_count": 680,
     "metadata": {},
     "output_type": "execute_result"
    },
    {
     "data": {
      "image/png": "[encoded data removed]",
      "text/plain": [
       "<Figure size 1080x720 with 1 Axes>"
      ]
     },
     "metadata": {},
     "output_type": "display_data"
    }
   ],
   "source": [
    "plt.scatter(data['Heating_Load'], data['Cooling_Load'])"
   ]
  },
  {
   "cell_type": "markdown",
   "metadata": {},
   "source": [
    "Aici putem specula faptul ca avem 3 clustere, insa dorim sa avem demonstram acest lucru folosind Elbow Method"
   ]
  },
  {
   "cell_type": "code",
   "execution_count": 681,
   "metadata": {},
   "outputs": [],
   "source": [
    "scaler = MinMaxScaler()\n",
    "scaler.fit(data[['Heating_Load']])\n",
    "data['Heating_Load']=scaler.transform(data[['Heating_Load']])\n",
    "\n",
    "scaler.fit(data[['Cooling_Load']])\n",
    "data['Cooling_Load']=scaler.transform(data[['Cooling_Load']])"
   ]
  },
  {
   "cell_type": "code",
   "execution_count": 682,
   "metadata": {},
   "outputs": [],
   "source": [
    "k_rng = range(1,10)\n",
    "srp = []\n",
    "for k in k_rng:\n",
    "    km=KMeans(n_clusters = k)\n",
    "    km.fit(data[['Heating_Load','Cooling_Load' ]])\n",
    "    srp.append(km.inertia_)"
   ]
  },
  {
   "cell_type": "markdown",
   "metadata": {},
   "source": [
    "In analiza clusterelor, metoda cotului este utilizata în determinarea numarului de clustere dintr-un set de date. Pentru a determina numărul optim de clustere, trebuie să selectăm valoarea lui k la „cot”, adică punctul după care inerția începe să scadă în mod liniar."
   ]
  },
  {
   "cell_type": "code",
   "execution_count": 691,
   "metadata": {},
   "outputs": [
    {
     "data": {
      "text/plain": [
       "Text(0.5, 1.0, 'Elbow Method')"
      ]
     },
     "execution_count": 691,
     "metadata": {},
     "output_type": "execute_result"
    },
    {
     "data": {
      "image/png": "[encoded data removed]",
      "text/plain": [
       "<Figure size 1080x720 with 1 Axes>"
      ]
     },
     "metadata": {},
     "output_type": "display_data"
    }
   ],
   "source": [
    "plt.xlabel('k')\n",
    "plt.xlabel('Suma reziduala a patratelor')\n",
    "plt.plot(k_rng,srp,'bx-')\n",
    "plt.title('Elbow Method')"
   ]
  },
  {
   "cell_type": "code",
   "execution_count": 684,
   "metadata": {
    "scrolled": true
   },
   "outputs": [
    {
     "data": {
      "text/plain": [
       "array([0, 0, 0, 0, 2, 2, 2, 2, 2, 0, 0, 2, 0, 0, 0, 0, 1, 2, 2, 1, 2, 2,\n",
       "       2, 2, 0, 0, 0, 0, 0, 0, 0, 0, 0, 0, 0, 0, 0, 0, 0, 0, 0, 0, 0, 0,\n",
       "       0, 0, 0, 0, 2, 2, 2, 2, 2, 2, 2, 2, 2, 2, 2, 2, 2, 2, 2, 2, 1, 1,\n",
       "       1, 1, 1, 1, 1, 1, 0, 0, 0, 0, 0, 0, 0, 0, 0, 0, 0, 0, 0, 0, 0, 0,\n",
       "       0, 0, 0, 0, 0, 0, 0, 0, 2, 2, 2, 2, 2, 2, 2, 2, 2, 2, 2, 2, 2, 2,\n",
       "       2, 2, 1, 1, 1, 1, 1, 1, 1, 1, 0, 0, 0, 0, 0, 0, 0, 0, 0, 0, 0, 0,\n",
       "       0, 0, 0, 0, 0, 0, 0, 0, 0, 0, 0, 0, 2, 2, 2, 2, 2, 2, 2, 2, 2, 2,\n",
       "       2, 2, 2, 2, 2, 2, 1, 1, 1, 1, 1, 1, 1, 1, 0, 0, 0, 0, 0, 0, 0, 0,\n",
       "       0, 0, 0, 0, 0, 0, 0, 0, 0, 0, 0, 0, 0, 0, 0, 0, 2, 2, 2, 2, 2, 2,\n",
       "       2, 2, 2, 2, 2, 2, 2, 2, 2, 2, 1, 1, 1, 1, 1, 1, 1, 1, 0, 0, 0, 0,\n",
       "       0, 0, 0, 0, 0, 0, 0, 0, 0, 0, 0, 0, 0, 0, 0, 0, 0, 0, 0, 0, 2, 2,\n",
       "       2, 2, 2, 2, 2, 2, 2, 2, 2, 2, 2, 2, 2, 2, 1, 1, 1, 1, 1, 1, 1, 1,\n",
       "       0, 0, 0, 0, 0, 0, 0, 0, 0, 0, 0, 0, 0, 0, 0, 0, 0, 0, 0, 0, 0, 0,\n",
       "       0, 0, 2, 2, 2, 2, 1, 1, 1, 1, 2, 2, 2, 2, 2, 2, 2, 2, 1, 1, 1, 1,\n",
       "       1, 1, 1, 1, 0, 0, 0, 0, 0, 0, 0, 0, 0, 0, 0, 0, 0, 0, 0, 0, 0, 0,\n",
       "       0, 0, 0, 0, 0, 0, 2, 2, 2, 2, 1, 1, 1, 1, 2, 2, 2, 2, 2, 2, 2, 2,\n",
       "       1, 1, 1, 1, 1, 1, 1, 1, 0, 0, 0, 0, 0, 0, 0, 0, 0, 0, 0, 0, 0, 0,\n",
       "       0, 0, 0, 0, 0, 0, 0, 0, 0, 0, 2, 2, 2, 2, 1, 1, 1, 2, 2, 2, 2, 2,\n",
       "       2, 2, 2, 2, 1, 1, 1, 1, 1, 1, 1, 1, 0, 0, 0, 0, 0, 0, 0, 0, 0, 0,\n",
       "       0, 0, 0, 0, 0, 0, 0, 0, 0, 0, 0, 0, 0, 0, 2, 2, 2, 2, 1, 1, 1, 1,\n",
       "       2, 2, 2, 2, 2, 2, 2, 2, 1, 1, 1, 1, 1, 1, 1, 1, 0, 0, 0, 0, 0, 0,\n",
       "       0, 0, 0, 0, 0, 0, 0, 0, 0, 0, 0, 0, 0, 0, 0, 0, 0, 0, 2, 2, 2, 2,\n",
       "       1, 2, 1, 1, 2, 2, 2, 2, 2, 2, 2, 2, 1, 1, 1, 1, 1, 1, 1, 1, 0, 0,\n",
       "       0, 0, 0, 0, 0, 0, 0, 0, 0, 0, 0, 0, 0, 0, 0, 0, 0, 0, 0, 0, 0, 0,\n",
       "       1, 1, 1, 1, 1, 1, 1, 1, 1, 2, 2, 1, 2, 2, 2, 2, 1, 1, 1, 1, 1, 1,\n",
       "       1, 1, 0, 0, 0, 0, 0, 0, 0, 0, 0, 0, 0, 0, 0, 0, 0, 0, 0, 0, 0, 0,\n",
       "       0, 0, 0, 0, 1, 1, 1, 1, 1, 1, 1, 1, 1, 2, 2, 1, 2, 2, 2, 2, 1, 1,\n",
       "       1, 1, 1, 1, 1, 1, 0, 0, 0, 0, 0, 0, 0, 0, 0, 0, 0, 0, 0, 0, 0, 0,\n",
       "       0, 0, 0, 0, 0, 0, 0, 0, 1, 1, 1, 1, 1, 1, 1, 1, 1, 1, 2, 2, 2, 2,\n",
       "       2, 2, 1, 1, 1, 1, 1, 1, 1, 1, 0, 0, 0, 0, 0, 0, 0, 0, 0, 0, 0, 0,\n",
       "       0, 0, 0, 0, 0, 0, 0, 0, 0, 0, 0, 0, 1, 1, 1, 1, 1, 1, 1, 1, 2, 1,\n",
       "       1, 2, 2, 2, 2, 2, 1, 1, 1, 1, 1, 1, 1, 1, 0, 0, 0, 0, 0, 0, 0, 0,\n",
       "       0, 0, 0, 0, 0, 0, 0, 0, 0, 0, 0, 0, 0, 0, 0, 0, 1, 1, 1, 1, 1, 1,\n",
       "       1, 1, 2, 2, 1, 1, 2, 2, 2, 2, 1, 1, 1, 1, 1, 1, 1, 1, 0, 0, 0, 0,\n",
       "       0, 0, 0, 0, 0, 0, 0, 0, 0, 0, 0, 0, 0, 0, 0, 0, 0, 0, 0, 0])"
      ]
     },
     "execution_count": 684,
     "metadata": {},
     "output_type": "execute_result"
    }
   ],
   "source": [
    "km = KMeans(n_clusters =3)\n",
    "y_predicted = km.fit_predict(data[['Heating_Load','Cooling_Load']])\n",
    "y_predicted"
   ]
  },
  {
   "cell_type": "code",
   "execution_count": 685,
   "metadata": {},
   "outputs": [],
   "source": [
    "data['cluster']= y_predicted"
   ]
  },
  {
   "cell_type": "code",
   "execution_count": 686,
   "metadata": {},
   "outputs": [
    {
     "data": {
      "text/html": [
       "<div>\n",
       "<style scoped>\n",
       "    .dataframe tbody tr th:only-of-type {\n",
       "        vertical-align: middle;\n",
       "    }\n",
       "\n",
       "    .dataframe tbody tr th {\n",
       "        vertical-align: top;\n",
       "    }\n",
       "\n",
       "    .dataframe thead th {\n",
       "        text-align: right;\n",
       "    }\n",
       "</style>\n",
       "<table border=\"1\" class=\"dataframe\">\n",
       "  <thead>\n",
       "    <tr style=\"text-align: right;\">\n",
       "      <th></th>\n",
       "      <th>Relative_Compactness</th>\n",
       "      <th>Surface_Area</th>\n",
       "      <th>Wall_Area</th>\n",
       "      <th>Roof_Area</th>\n",
       "      <th>Overall_Height</th>\n",
       "      <th>Orientation</th>\n",
       "      <th>Glazing_Area</th>\n",
       "      <th>Glazing_Area_Distribution</th>\n",
       "      <th>Heating_Load</th>\n",
       "      <th>Cooling_Load</th>\n",
       "      <th>cluster</th>\n",
       "    </tr>\n",
       "  </thead>\n",
       "  <tbody>\n",
       "    <tr>\n",
       "      <th>0</th>\n",
       "      <td>0.98</td>\n",
       "      <td>514.5</td>\n",
       "      <td>294.0</td>\n",
       "      <td>110.25</td>\n",
       "      <td>7.0</td>\n",
       "      <td>2</td>\n",
       "      <td>0.0</td>\n",
       "      <td>0</td>\n",
       "      <td>0.257212</td>\n",
       "      <td>0.280905</td>\n",
       "      <td>0</td>\n",
       "    </tr>\n",
       "    <tr>\n",
       "      <th>1</th>\n",
       "      <td>0.98</td>\n",
       "      <td>514.5</td>\n",
       "      <td>294.0</td>\n",
       "      <td>110.25</td>\n",
       "      <td>7.0</td>\n",
       "      <td>3</td>\n",
       "      <td>0.0</td>\n",
       "      <td>0</td>\n",
       "      <td>0.257212</td>\n",
       "      <td>0.280905</td>\n",
       "      <td>0</td>\n",
       "    </tr>\n",
       "    <tr>\n",
       "      <th>2</th>\n",
       "      <td>0.98</td>\n",
       "      <td>514.5</td>\n",
       "      <td>294.0</td>\n",
       "      <td>110.25</td>\n",
       "      <td>7.0</td>\n",
       "      <td>4</td>\n",
       "      <td>0.0</td>\n",
       "      <td>0</td>\n",
       "      <td>0.257212</td>\n",
       "      <td>0.280905</td>\n",
       "      <td>0</td>\n",
       "    </tr>\n",
       "    <tr>\n",
       "      <th>3</th>\n",
       "      <td>0.98</td>\n",
       "      <td>514.5</td>\n",
       "      <td>294.0</td>\n",
       "      <td>110.25</td>\n",
       "      <td>7.0</td>\n",
       "      <td>5</td>\n",
       "      <td>0.0</td>\n",
       "      <td>0</td>\n",
       "      <td>0.257212</td>\n",
       "      <td>0.280905</td>\n",
       "      <td>0</td>\n",
       "    </tr>\n",
       "    <tr>\n",
       "      <th>4</th>\n",
       "      <td>0.90</td>\n",
       "      <td>563.5</td>\n",
       "      <td>318.5</td>\n",
       "      <td>122.50</td>\n",
       "      <td>7.0</td>\n",
       "      <td>2</td>\n",
       "      <td>0.0</td>\n",
       "      <td>0</td>\n",
       "      <td>0.399838</td>\n",
       "      <td>0.468085</td>\n",
       "      <td>2</td>\n",
       "    </tr>\n",
       "  </tbody>\n",
       "</table>\n",
       "</div>"
      ],
      "text/plain": [
       "   Relative_Compactness  Surface_Area  Wall_Area  Roof_Area  Overall_Height  \\\n",
       "0                  0.98         514.5      294.0     110.25             7.0   \n",
       "1                  0.98         514.5      294.0     110.25             7.0   \n",
       "2                  0.98         514.5      294.0     110.25             7.0   \n",
       "3                  0.98         514.5      294.0     110.25             7.0   \n",
       "4                  0.90         563.5      318.5     122.50             7.0   \n",
       "\n",
       "   Orientation  Glazing_Area  Glazing_Area_Distribution  Heating_Load  \\\n",
       "0            2           0.0                          0      0.257212   \n",
       "1            3           0.0                          0      0.257212   \n",
       "2            4           0.0                          0      0.257212   \n",
       "3            5           0.0                          0      0.257212   \n",
       "4            2           0.0                          0      0.399838   \n",
       "\n",
       "   Cooling_Load  cluster  \n",
       "0      0.280905        0  \n",
       "1      0.280905        0  \n",
       "2      0.280905        0  \n",
       "3      0.280905        0  \n",
       "4      0.468085        2  "
      ]
     },
     "execution_count": 686,
     "metadata": {},
     "output_type": "execute_result"
    }
   ],
   "source": [
    "data.head()"
   ]
  },
  {
   "cell_type": "code",
   "execution_count": 687,
   "metadata": {},
   "outputs": [
    {
     "data": {
      "text/plain": [
       "Text(0, 0.5, 'Cooling_Load')"
      ]
     },
     "execution_count": 687,
     "metadata": {},
     "output_type": "execute_result"
    },
    {
     "data": {
      "image/png": "[encoded data removed]",
      "text/plain": [
       "<Figure size 1080x720 with 1 Axes>"
      ]
     },
     "metadata": {},
     "output_type": "display_data"
    }
   ],
   "source": [
    "df1 = data[data.cluster==0]\n",
    "df2 = data[data.cluster==1]\n",
    "df3 = data[data.cluster==2]\n",
    "\n",
    "plt.scatter(df1.Heating_Load,df1['Cooling_Load'], color= 'green')\n",
    "plt.scatter(df2.Heating_Load,df2['Cooling_Load'], color= 'blue')\n",
    "plt.scatter(df3.Heating_Load,df3['Cooling_Load'], color= 'purple')\n",
    "\n",
    "\n",
    "plt.xlabel('Heating_Load')\n",
    "plt.ylabel('Cooling_Load')"
   ]
  },
  {
   "cell_type": "markdown",
   "metadata": {},
   "source": [
    "Fiecare cluster are un centroid. Algoritmul lucreaza cu K clustere, deci K dintre punctele folosite la instruire vor fi centriozii celor K clustere. Intrucat initializarea centroizilor se face aleator, exista posibilitatea ca mai multe rulari ale algoritmului sa duca la rezultate diferite."
   ]
  },
  {
   "cell_type": "code",
   "execution_count": 688,
   "metadata": {},
   "outputs": [
    {
     "data": {
      "text/plain": [
       "array([[0.20001629, 0.14347518],\n",
       "       [0.81140116, 0.7138214 ],\n",
       "       [0.56651447, 0.49316756]])"
      ]
     },
     "execution_count": 688,
     "metadata": {},
     "output_type": "execute_result"
    }
   ],
   "source": [
    "km.cluster_centers_"
   ]
  },
  {
   "cell_type": "code",
   "execution_count": 689,
   "metadata": {},
   "outputs": [
    {
     "data": {
      "text/plain": [
       "Text(0, 0.5, 'Cooling_Load')"
      ]
     },
     "execution_count": 689,
     "metadata": {},
     "output_type": "execute_result"
    },
    {
     "data": {
      "image/png": "[encoded data removed]",
      "text/plain": [
       "<Figure size 1080x720 with 1 Axes>"
      ]
     },
     "metadata": {},
     "output_type": "display_data"
    }
   ],
   "source": [
    "df1 = data[data.cluster==0]\n",
    "df2 = data[data.cluster==1]\n",
    "df3 = data[data.cluster==2]\n",
    "\n",
    "plt.scatter(df1.Heating_Load,df1['Cooling_Load'], color= 'green')\n",
    "plt.scatter(df2.Heating_Load,df2['Cooling_Load'], color= 'blue')\n",
    "plt.scatter(df3.Heating_Load,df3['Cooling_Load'], color= 'purple')\n",
    "\n",
    "plt.scatter(km.cluster_centers_[:,0], km.cluster_centers_[:,1], color='red', marker = 'o', label='centroid')\n",
    "\n",
    "plt.xlabel('Heating_Load')\n",
    "plt.ylabel('Cooling_Load')"
   ]
  }
 ],
 "metadata": {
  "kernelspec": {
   "display_name": "Python 3",
   "language": "python",
   "name": "python3"
  },
  "language_info": {
   "codemirror_mode": {
    "name": "ipython",
    "version": 3
   },
   "file_extension": ".py",
   "mimetype": "text/x-python",
   "name": "python",
   "nbconvert_exporter": "python",
   "pygments_lexer": "ipython3",
   "version": "3.8.5"
  }
 },
 "nbformat": 4,
 "nbformat_minor": 4
}
